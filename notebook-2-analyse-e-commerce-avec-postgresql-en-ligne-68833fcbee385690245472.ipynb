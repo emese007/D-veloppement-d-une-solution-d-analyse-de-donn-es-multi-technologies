{
  "cells": [
    {
      "cell_type": "markdown",
      "metadata": {
        "id": "I43NxonzOSDg"
      },
      "source": [
        "# Notebook 2 - SQL avec vraies bases de données\n",
        "## Analyse e-commerce avec PostgreSQL en ligne\n",
        "\n"
      ]
    },
    {
      "cell_type": "markdown",
      "metadata": {
        "id": "JItQV6o4Ojrm"
      },
      "source": [
        "\n",
        "### 🎯 Objectifs pédagogiques\n",
        "- Connecter Python à une vraie base de données PostgreSQL\n",
        "- Écrire des requêtes SQL complexes sur des données réelles\n",
        "- Implémenter des analyses RFM avec SQL\n",
        "- Intégrer SQL et pandas pour des analyses avancées\n",
        "- Gérer les connexions et la sécurité\n",
        "\n",
        "### 🛍️ Contexte du projet\n",
        "Vous analysez les données d'un vrai dataset e-commerce (Brazilian E-Commerce Public Dataset) hébergé sur une base PostgreSQL.\n",
        "\n",
        "Objectif : créer une segmentation clientèle pour optimiser les campagnes marketing.\n"
      ]
    },
    {
      "cell_type": "markdown",
      "metadata": {
        "id": "K79TBMVvOuoj"
      },
      "source": [
        "## Partie 1 : Connexion à la base de données réelle"
      ]
    },
    {
      "cell_type": "markdown",
      "metadata": {
        "id": "mq7n18iwPBPe"
      },
      "source": [
        "### 🔧 Installation et configuration\n",
        "\n",
        "\n",
        "# Installation des dépendances\n",
        "\n",
        "\n",
        "```\n",
        "pip install psycopg2-binary sqlalchemy pandas python-dotenv\n",
        "```\n",
        "\n",
        "\n"
      ]
    },
    {
      "cell_type": "code",
      "execution_count": 27,
      "metadata": {
        "id": "_NuY2FHuOhu3"
      },
      "outputs": [],
      "source": [
        "import psycopg2\n",
        "import pandas as pd\n",
        "import numpy as np\n",
        "from sqlalchemy import create_engine\n",
        "import matplotlib.pyplot as plt\n",
        "import seaborn as sns\n",
        "from datetime import datetime, timedelta\n",
        "\n",
        "import os\n",
        "from dotenv import load_dotenv\n",
        "\n",
        "from sqlalchemy import create_engine, text"
      ]
    },
    {
      "cell_type": "markdown",
      "metadata": {
        "id": "QEbORVz5PXMa"
      },
      "source": [
        "### 🌐 Base de données PostgreSQL gratuite (ElephantSQL)\n",
        "\n",
        "**Option 1 : ElephantSQL (20MB gratuit)**\n",
        "1. Créez un compte sur [elephantsql.com](https://www.elephantsql.com/)\n",
        "2. Créez une instance \"Tiny Turtle\" (gratuite)\n",
        "3. Récupérez vos credentials\n",
        "\n",
        "**Option 2 : Supabase (500MB gratuit)**\n",
        "1. Créez un compte sur [supabase.com](https://supabase.com/)\n",
        "2. Créez un nouveau projet\n",
        "3. Récupérez l'URL de connexion PostgreSQL"
      ]
    },
    {
      "cell_type": "code",
      "execution_count": 28,
      "metadata": {
        "id": "ytLvCF3fQxRJ"
      },
      "outputs": [
        {
          "name": "stdout",
          "output_type": "stream",
          "text": [
            "                                             version\n",
            "0  PostgreSQL 17.4 on aarch64-unknown-linux-gnu, ...\n"
          ]
        },
        {
          "data": {
            "text/plain": [
              "True"
            ]
          },
          "execution_count": 28,
          "metadata": {},
          "output_type": "execute_result"
        }
      ],
      "source": [
        "# Configuration de connexion (à adapter selon votre provider)\n",
        "DATABASE_CONFIG = {\n",
        "    'host': 'aws-0-eu-west-3.pooler.supabase.com',  # Ou votre host Supabase\n",
        "    'database': os.getenv(\"DATABASE\"),\n",
        "    'user': os.getenv(\"USER_postgres\"),\n",
        "    'password': os.getenv(\"PASSWORD\"),\n",
        "    'port': os.getenv(\"PORT\"),\n",
        "}\n",
        "\n",
        "# Création de l'engine SQLAlchemy\n",
        "engine = create_engine(\n",
        "    f\"postgresql://{DATABASE_CONFIG['user']}:{DATABASE_CONFIG['password']}@\"\n",
        "    f\"{DATABASE_CONFIG['host']}:{DATABASE_CONFIG['port']}/{DATABASE_CONFIG['database']}\"\n",
        ")\n",
        "\n",
        "# Test de connexion\n",
        "def test_connection():\n",
        "    \"\"\"\n",
        "    Testez votre connexion à la base\n",
        "\n",
        "    Étapes :\n",
        "    1. Utilisez pd.read_sql() pour exécuter \"SELECT version()\"\n",
        "    2. Affichez la version PostgreSQL\n",
        "    3. Gérez les erreurs de connexion\n",
        "    \"\"\"\n",
        "    try:\n",
        "        # Votre code ici\n",
        "        version = pd.read_sql(\"SELECT version();\", engine)\n",
        "        print(version)\n",
        "        pass\n",
        "    except Exception as e:\n",
        "        print(f\"Erreur de connexion : {e}\")\n",
        "        return False\n",
        "    return True\n",
        "\n",
        "test_connection()"
      ]
    },
    {
      "cell_type": "markdown",
      "metadata": {
        "id": "uXfOgAxGQ3b5"
      },
      "source": [
        "\n",
        "## Partie 2 : Import du dataset e-commerce\n",
        "\n",
        "### 📊 Dataset Brazilian E-Commerce\n",
        "Nous utilisons le célèbre dataset Olist (100k commandes réelles).\n",
        "\n",
        "**Tables à créer :**\n",
        "1. **customers** : customer_id, customer_city, customer_state\n",
        "2. **orders** : order_id, customer_id, order_status, order_date, order_delivered_date\n",
        "3. **order_items** : order_id, product_id, seller_id, price, freight_value\n",
        "4. **products** : product_id, product_category, product_weight_g\n",
        "5. **sellers** : seller_id, seller_city, seller_state"
      ]
    },
    {
      "cell_type": "code",
      "execution_count": 29,
      "metadata": {
        "id": "2_uVipWkQ_W8"
      },
      "outputs": [],
      "source": [
        "### 📥 Import des données via API\n",
        "\n",
        "import requests\n",
        "import zipfile\n",
        "import io\n",
        "import pandas as pd\n",
        "\n",
        "def download_olist_dataset():\n",
        "\n",
        "    \"\"\"\n",
        "    Télécharge le dataset Olist depuis Kaggle API\n",
        "\n",
        "    Alternative : Utilisez l'API publique de l'IBGE (Institut brésilien)\n",
        "    pour des données e-commerce synthétiques mais réalistes\n",
        "    \"\"\"\n",
        "\n",
        "    # URL des données publiques brésiliennes\n",
        "    IBGE_API = \"https://www.kaggle.com/datasets/olistbr/brazilian-ecommerce\"\n",
        "\n",
        "    # Récupération des données de villes (pour la géolocalisation)\n",
        "    cities_url = f\"{IBGE_API}localidades/municipios\"\n",
        "\n",
        "    try:\n",
        "        response = requests.get(cities_url)\n",
        "        cities_data = response.json()\n",
        "\n",
        "        # Convertir en DataFrame\n",
        "        cities_df = pd.DataFrame(cities_data)\n",
        "\n",
        "        # Votre code pour nettoyer et structurer\n",
        "        # Créez des données e-commerce réalistes basées sur ces villes\n",
        "\n",
        "        return cities_df\n",
        "    except Exception as e:\n",
        "        print(f\"Erreur API IBGE : {e}\")\n",
        "        return None\n",
        "\n",
        "# Génération de données e-commerce réalistes\n",
        "def generate_ecommerce_data(cities_df, n_customers=10000):\n",
        "    \"\"\"\n",
        "    Génère des données e-commerce réalistes\n",
        "\n",
        "    Étapes guidées :\n",
        "    1. Sélectionnez 50 villes brésiliennes aléatoirement\n",
        "    2. Créez des clients avec distribution réaliste\n",
        "    3. Générez des commandes avec saisonnalité\n",
        "    4. Ajoutez des produits avec catégories cohérentes\n",
        "    5. Calculez des prix et frais de port basés sur la distance\n",
        "    \"\"\"\n",
        "    pass"
      ]
    },
    {
      "cell_type": "code",
      "execution_count": 30,
      "metadata": {},
      "outputs": [],
      "source": [
        "customers_clean = pd.read_csv(\"data/olist_customers_dataset.csv\")\n",
        "customers_clean = customers_clean[['customer_id', 'customer_city', 'customer_state']]"
      ]
    },
    {
      "cell_type": "code",
      "execution_count": 31,
      "metadata": {},
      "outputs": [
        {
          "name": "stdout",
          "output_type": "stream",
          "text": [
            "Max value: 2018-10-17 17:30:18\n",
            "Min value: 2016-09-04 21:15:19\n"
          ]
        }
      ],
      "source": [
        "orders_clean = pd.read_csv(\"data/olist_orders_dataset.csv\")\n",
        "orders_clean = orders_clean[['order_id', 'customer_id', 'order_status', 'order_purchase_timestamp', 'order_delivered_customer_date']].rename(columns={\n",
        "        'order_purchase_timestamp': 'order_date',\n",
        "        'order_delivered_customer_date': 'order_delivered_date'})\n",
        "\n",
        "print(\"Max value:\", orders_clean['order_date'].max())\n",
        "print(\"Min value:\", orders_clean['order_date'].min())\n",
        "\n"
      ]
    },
    {
      "cell_type": "code",
      "execution_count": 32,
      "metadata": {},
      "outputs": [],
      "source": [
        "order_items_clean = pd.read_csv(\"data/olist_order_items_dataset.csv\")\n",
        "order_items_clean = order_items_clean[['order_id', 'product_id', 'seller_id', 'price', 'freight_value']]"
      ]
    },
    {
      "cell_type": "code",
      "execution_count": 33,
      "metadata": {},
      "outputs": [],
      "source": [
        "sellers_clean = pd.read_csv(\"data/olist_sellers_dataset.csv\")\n",
        "sellers_clean = sellers_clean[['seller_id', 'seller_city', 'seller_state']]"
      ]
    },
    {
      "cell_type": "code",
      "execution_count": 34,
      "metadata": {},
      "outputs": [],
      "source": [
        "products_clean = pd.read_csv(\"data/olist_products_dataset.csv\")\n",
        "products_clean = products_clean[['product_id', 'product_category_name', 'product_weight_g']].rename(columns={'product_category_name': 'product_category'})"
      ]
    },
    {
      "cell_type": "code",
      "execution_count": 35,
      "metadata": {},
      "outputs": [],
      "source": [
        "def create_tables(engine):\n",
        "    from sqlalchemy import text\n",
        "\n",
        "    create_customers = text(\"\"\"\n",
        "    CREATE TABLE IF NOT EXISTS customers (\n",
        "        customer_id VARCHAR PRIMARY KEY,\n",
        "        customer_city VARCHAR(100),\n",
        "        customer_state CHAR(2)\n",
        "    );\n",
        "    \"\"\")\n",
        "\n",
        "    create_sellers = text(\"\"\"\n",
        "    CREATE TABLE IF NOT EXISTS sellers (\n",
        "        seller_id VARCHAR PRIMARY KEY,\n",
        "        seller_city VARCHAR(100),\n",
        "        seller_state CHAR(2)\n",
        "    );\n",
        "    \"\"\")\n",
        "\n",
        "    create_products = text(\"\"\"\n",
        "    CREATE TABLE IF NOT EXISTS products (\n",
        "        product_id VARCHAR PRIMARY KEY,\n",
        "        product_category VARCHAR,\n",
        "        product_weight_g NUMERIC\n",
        "    );\n",
        "    \"\"\")\n",
        "\n",
        "    create_orders = text(\"\"\"\n",
        "    CREATE TABLE IF NOT EXISTS orders (\n",
        "        order_id VARCHAR PRIMARY KEY,\n",
        "        customer_id VARCHAR,\n",
        "        order_status VARCHAR(50),\n",
        "        order_date TIMESTAMP,\n",
        "        order_delivered_date TIMESTAMP,\n",
        "        FOREIGN KEY (customer_id) REFERENCES customers(customer_id)\n",
        "    );\n",
        "    \"\"\")\n",
        "\n",
        "    create_order_items = text(\"\"\"\n",
        "    CREATE TABLE IF NOT EXISTS order_items (\n",
        "        order_id VARCHAR,\n",
        "        product_id VARCHAR,\n",
        "        seller_id VARCHAR,\n",
        "        price NUMERIC,\n",
        "        freight_value NUMERIC,\n",
        "        FOREIGN KEY (order_id) REFERENCES orders(order_id),\n",
        "        FOREIGN KEY (product_id) REFERENCES products(product_id),\n",
        "        FOREIGN KEY (seller_id) REFERENCES sellers(seller_id)\n",
        "    );\n",
        "    \"\"\")\n",
        "\n",
        "    with engine.connect() as conn:\n",
        "        conn.execute(create_customers)\n",
        "        conn.execute(create_sellers)\n",
        "        conn.execute(create_products)\n",
        "        conn.execute(create_orders)\n",
        "        conn.execute(create_order_items)\n",
        "        conn.commit()"
      ]
    },
    {
      "cell_type": "code",
      "execution_count": 36,
      "metadata": {},
      "outputs": [],
      "source": [
        "create_tables(engine)"
      ]
    },
    {
      "cell_type": "code",
      "execution_count": 37,
      "metadata": {},
      "outputs": [
        {
          "name": "stdout",
          "output_type": "stream",
          "text": [
            "    table_name\n",
            "0    customers\n",
            "1       orders\n",
            "2  order_items\n",
            "3     products\n",
            "4      sellers\n"
          ]
        }
      ],
      "source": [
        "query = \"\"\"\n",
        "SELECT table_name\n",
        "FROM information_schema.tables\n",
        "WHERE table_schema = 'public';\n",
        "\"\"\"\n",
        "\n",
        "# Execute query\n",
        "with engine.connect() as conn:\n",
        "    tables_df = pd.read_sql(query, conn)\n",
        "\n",
        "print(tables_df)\n",
        "\n"
      ]
    },
    {
      "cell_type": "code",
      "execution_count": 38,
      "metadata": {},
      "outputs": [
        {
          "name": "stdout",
          "output_type": "stream",
          "text": [
            "customers : 99441 lignes\n",
            "orders : 99441 lignes\n",
            "products : 32951 lignes\n",
            "sellers : 3095 lignes\n",
            "order_items : 112650 lignes\n"
          ]
        }
      ],
      "source": [
        "tables = [\"customers\", \"orders\", \"products\", \"sellers\", \"order_items\"]\n",
        "\n",
        "# Exécution de la requête pour chaque table\n",
        "with engine.connect() as conn:\n",
        "    for table in tables:\n",
        "        result = conn.execute(text(f\"SELECT COUNT(*) FROM {table}\"))\n",
        "        count = result.scalar()\n",
        "        print(f\"{table} : {count} lignes\")\n"
      ]
    },
    {
      "cell_type": "code",
      "execution_count": null,
      "metadata": {},
      "outputs": [],
      "source": [
        "customers_clean.to_sql(\"customers\", engine, if_exists=\"append\", index=False)\n",
        "print(\"Donnees inseres dans customers\")"
      ]
    },
    {
      "cell_type": "code",
      "execution_count": null,
      "metadata": {},
      "outputs": [
        {
          "data": {
            "text/plain": [
              "95"
            ]
          },
          "execution_count": 14,
          "metadata": {},
          "output_type": "execute_result"
        }
      ],
      "source": [
        "sellers_clean.to_sql(\"sellers\", engine, if_exists=\"append\", index=False)"
      ]
    },
    {
      "cell_type": "code",
      "execution_count": null,
      "metadata": {},
      "outputs": [
        {
          "data": {
            "text/plain": [
              "951"
            ]
          },
          "execution_count": 15,
          "metadata": {},
          "output_type": "execute_result"
        }
      ],
      "source": [
        "products_clean.to_sql(\"products\", engine, if_exists=\"append\", index=False)"
      ]
    },
    {
      "cell_type": "code",
      "execution_count": null,
      "metadata": {},
      "outputs": [
        {
          "name": "stdout",
          "output_type": "stream",
          "text": [
            "Donnees inseres dans orders_clean\n"
          ]
        }
      ],
      "source": [
        "orders_clean.to_sql(\"orders\", engine, if_exists=\"append\", index=False)\n",
        "print(\"Donnees inseres dans orders_clean\")\n"
      ]
    },
    {
      "cell_type": "code",
      "execution_count": null,
      "metadata": {},
      "outputs": [
        {
          "name": "stdout",
          "output_type": "stream",
          "text": [
            "Donnees inseres dans orders_clean\n"
          ]
        }
      ],
      "source": [
        "order_items_clean.to_sql(\"order_items\", engine, if_exists=\"append\", index=False)\n",
        "print(\"Donnees inseres dans orders_clean\")"
      ]
    },
    {
      "cell_type": "markdown",
      "metadata": {
        "id": "OBQ_BY-QT4dO"
      },
      "source": [
        "## Partie 3 : Requêtes SQL avancées\n",
        "\n",
        "\n",
        "### 🔍 Analyses SQL à implémenter"
      ]
    },
    {
      "cell_type": "markdown",
      "metadata": {
        "id": "tdl5RNOBUAV2"
      },
      "source": [
        "#### 1. Analyse RFM (Récence, Fréquence, Montant)\n",
        "```sql\n",
        "-- Votre défi : Calculer les métriques RFM pour chaque client\n",
        "WITH customer_metrics AS (\n",
        "    SELECT\n",
        "        c.customer_id,\n",
        "        c.customer_state,\n",
        "        -- Récence : jours depuis dernier achat\n",
        "        DATE_PART('day', DATE '2018-10-17' - MAX(o.order_date)) AS recency,\n",
        "        -- Fréquence : nombre de commandes\n",
        "        COUNT(DISCOUNT o.order_id) AS frequency,\n",
        "        -- Montant : total dépensé\n",
        "        SUM(oi.price + oi.freight_value) AS monetary\n",
        "        -- Complétez cette requête CTE\n",
        "        \n",
        "    FROM customers c\n",
        "    JOIN orders o ON c.customer_id = o.customer_id\n",
        "    JOIN order_items oi ON o.order_id = oi.order_id\n",
        "    WHERE o.order_status = 'delivered'\n",
        "    GROUP BY c.customer_id, c.customer_state\n",
        ")\n",
        "\n",
        "-- Créez les segments RFM (Champions, Loyaux, À risque, etc.)\n",
        "SELECT\n",
        "    customer_id,\n",
        "    customer_state,\n",
        "    recency_score,\n",
        "    frequency_score,\n",
        "    monetary_score,\n",
        "    CASE\n",
        "        WHEN recency_score >= 4 AND frequency_score >= 4 THEN 'Champions'\n",
        "        WHEN recency_score >= 3 AND frequency_score >= 3 THEN 'Loyal Customers'\n",
        "        -- Ajoutez les autres segments\n",
        "        WHEN recency_score < 3 AND frequency_score <= 3 THEN 'À Risque'\n",
        "        ELSE 'Others'\n",
        "    END as customer_segment\n",
        "FROM customer_metrics;\n",
        "```"
      ]
    },
    {
      "cell_type": "code",
      "execution_count": null,
      "metadata": {},
      "outputs": [
        {
          "name": "stdout",
          "output_type": "stream",
          "text": [
            "                        customer_id  recency  frequency  monetary  \\\n",
            "0  e60df9449653a95af4549bbfcb18a6eb     48.0          1    510.96   \n",
            "1  448945bc713d98b6726e82eda6249b9e     48.0          1    497.25   \n",
            "2  496630b6740bcca28fce9ba50d8a26ef     48.0          1     33.23   \n",
            "3  e450a297a7bc6839ceb0cf1a2377fa02     48.0          1     73.10   \n",
            "4  10a79ef2783cae3d8d678e85fde235ac     48.0          1     14.29   \n",
            "\n",
            "   recency_score  frequency_score  monetary_score customer_segment  \n",
            "0              1                1               1      Hibernating  \n",
            "1              1                1               1      Hibernating  \n",
            "2              1                2               5      Hibernating  \n",
            "3              1                2               4      Hibernating  \n",
            "4              1                2               5      Hibernating  \n"
          ]
        }
      ],
      "source": [
        "query = \"\"\"\n",
        "WITH rfm_raw AS (\n",
        "    SELECT\n",
        "        c.customer_id,\n",
        "        -- Récence = jours depuis le dernier achat\n",
        "        DATE_PART('day', DATE '2018-10-17' - MAX(o.order_date)) AS recency,\n",
        "        -- Fréquence = nombre de commandes\n",
        "        COUNT(DISTINCT o.order_id) AS frequency,\n",
        "        -- Montant = total payé\n",
        "        SUM(oi.price + oi.freight_value) AS monetary\n",
        "    FROM customers c\n",
        "    JOIN orders o ON c.customer_id = o.customer_id\n",
        "    JOIN order_items oi ON o.order_id = oi.order_id\n",
        "    WHERE o.order_status = 'delivered'\n",
        "    GROUP BY c.customer_id\n",
        "),\n",
        "\n",
        "rfm_scored AS (\n",
        "    SELECT\n",
        "        customer_id,\n",
        "        recency,\n",
        "        frequency,\n",
        "        monetary,\n",
        "        -- Scores entre 1 et 5 avec NTILE\n",
        "        NTILE(5) OVER (ORDER BY recency ASC) AS recency_score,\n",
        "        NTILE(5) OVER (ORDER BY frequency DESC) AS frequency_score,\n",
        "        NTILE(5) OVER (ORDER BY monetary DESC) AS monetary_score\n",
        "    FROM rfm_raw\n",
        ")\n",
        "\n",
        "SELECT\n",
        "    customer_id,\n",
        "    recency,\n",
        "    frequency,\n",
        "    monetary,\n",
        "    recency_score,\n",
        "    frequency_score,\n",
        "    monetary_score,\n",
        "\n",
        "    CASE\n",
        "        WHEN recency_score >= 4 AND frequency_score >= 4 AND monetary_score >= 4 THEN 'Champions'\n",
        "        WHEN recency_score >= 3 AND frequency_score >= 3 THEN 'Loyal Customers'\n",
        "        WHEN recency_score >= 4 AND frequency_score BETWEEN 2 AND 3 THEN 'Potential Loyalists'\n",
        "        WHEN recency_score BETWEEN 2 AND 3 AND frequency_score >= 3 THEN 'At Risk'\n",
        "        WHEN recency_score <= 2 AND frequency_score <= 2 THEN 'Hibernating'\n",
        "        WHEN recency_score = 1 THEN 'Lost'\n",
        "        ELSE 'Others'\n",
        "    END AS customer_segment\n",
        "\n",
        "FROM rfm_scored;\n",
        "\"\"\"\n",
        "# Execute SQL and load results into DataFrame\n",
        "df = pd.read_sql(query, engine)\n",
        "print(df.head())"
      ]
    },
    {
      "cell_type": "code",
      "execution_count": 58,
      "metadata": {
        "id": "TWF9rpZSUMp5"
      },
      "outputs": [],
      "source": [
        "#### 2. Analyse géographique des ventes\n",
        "\n",
        "def geographic_sales_analysis():\n",
        "    \"\"\"\n",
        "    Analysez les performances par état/région\n",
        "\n",
        "    Requêtes à écrire :\n",
        "    1. Top 10 des états par CA\n",
        "    2. Croissance MoM par région\n",
        "    3. Taux de conversion par ville\n",
        "    4. Distance moyenne vendeur-acheteur\n",
        "    \"\"\"\n",
        "\n",
        "    query_top_states = \"\"\"\n",
        "        SELECT \n",
        "        c.customer_state,\n",
        "        COUNT(DISTINCT o.order_id) AS num_orders,\n",
        "        ROUND(SUM(oi.price + oi.freight_value), 2) AS total_revenue,\n",
        "        ROUND(SUM(oi.price + oi.freight_value) / COUNT(DISTINCT o.order_id), 2) AS avg_basket\n",
        "    FROM customers c\n",
        "    JOIN orders o ON c.customer_id = o.customer_id\n",
        "    JOIN order_items oi ON o.order_id = oi.order_id\n",
        "    WHERE o.order_status = 'delivered'\n",
        "    GROUP BY c.customer_state\n",
        "    ORDER BY total_revenue DESC\n",
        "    LIMIT 10;\n",
        "\n",
        "    -- Votre requête SQL ici\n",
        "    -- Utilisez des JOINs et GROUP BY\n",
        "    -- Calculez le CA, nombre de commandes, panier moyen\n",
        "    \"\"\"\n",
        "\n",
        "    return pd.read_sql(query_top_states, engine)"
      ]
    },
    {
      "cell_type": "code",
      "execution_count": 60,
      "metadata": {},
      "outputs": [
        {
          "data": {
            "application/vnd.microsoft.datawrangler.viewer.v0+json": {
              "columns": [
                {
                  "name": "index",
                  "rawType": "int64",
                  "type": "integer"
                },
                {
                  "name": "customer_state",
                  "rawType": "object",
                  "type": "string"
                },
                {
                  "name": "num_orders",
                  "rawType": "int64",
                  "type": "integer"
                },
                {
                  "name": "total_revenue",
                  "rawType": "float64",
                  "type": "float"
                },
                {
                  "name": "avg_basket",
                  "rawType": "float64",
                  "type": "float"
                }
              ],
              "ref": "6143b20e-64e5-43be-ab58-c880995a4826",
              "rows": [
                [
                  "0",
                  "SP",
                  "40501",
                  "5769703.15",
                  "142.46"
                ],
                [
                  "1",
                  "RJ",
                  "12350",
                  "2055401.57",
                  "166.43"
                ],
                [
                  "2",
                  "MG",
                  "11354",
                  "1818891.67",
                  "160.2"
                ],
                [
                  "3",
                  "RS",
                  "5345",
                  "861472.79",
                  "161.17"
                ],
                [
                  "4",
                  "PR",
                  "4923",
                  "781708.8",
                  "158.79"
                ],
                [
                  "5",
                  "SC",
                  "3546",
                  "595127.78",
                  "167.83"
                ],
                [
                  "6",
                  "BA",
                  "3256",
                  "591137.81",
                  "181.55"
                ],
                [
                  "7",
                  "DF",
                  "2080",
                  "346123.35",
                  "166.41"
                ],
                [
                  "8",
                  "GO",
                  "1957",
                  "334212.35",
                  "170.78"
                ],
                [
                  "9",
                  "ES",
                  "1995",
                  "317657.93",
                  "159.23"
                ]
              ],
              "shape": {
                "columns": 4,
                "rows": 10
              }
            },
            "text/html": [
              "<div>\n",
              "<style scoped>\n",
              "    .dataframe tbody tr th:only-of-type {\n",
              "        vertical-align: middle;\n",
              "    }\n",
              "\n",
              "    .dataframe tbody tr th {\n",
              "        vertical-align: top;\n",
              "    }\n",
              "\n",
              "    .dataframe thead th {\n",
              "        text-align: right;\n",
              "    }\n",
              "</style>\n",
              "<table border=\"1\" class=\"dataframe\">\n",
              "  <thead>\n",
              "    <tr style=\"text-align: right;\">\n",
              "      <th></th>\n",
              "      <th>customer_state</th>\n",
              "      <th>num_orders</th>\n",
              "      <th>total_revenue</th>\n",
              "      <th>avg_basket</th>\n",
              "    </tr>\n",
              "  </thead>\n",
              "  <tbody>\n",
              "    <tr>\n",
              "      <th>0</th>\n",
              "      <td>SP</td>\n",
              "      <td>40501</td>\n",
              "      <td>5769703.15</td>\n",
              "      <td>142.46</td>\n",
              "    </tr>\n",
              "    <tr>\n",
              "      <th>1</th>\n",
              "      <td>RJ</td>\n",
              "      <td>12350</td>\n",
              "      <td>2055401.57</td>\n",
              "      <td>166.43</td>\n",
              "    </tr>\n",
              "    <tr>\n",
              "      <th>2</th>\n",
              "      <td>MG</td>\n",
              "      <td>11354</td>\n",
              "      <td>1818891.67</td>\n",
              "      <td>160.20</td>\n",
              "    </tr>\n",
              "    <tr>\n",
              "      <th>3</th>\n",
              "      <td>RS</td>\n",
              "      <td>5345</td>\n",
              "      <td>861472.79</td>\n",
              "      <td>161.17</td>\n",
              "    </tr>\n",
              "    <tr>\n",
              "      <th>4</th>\n",
              "      <td>PR</td>\n",
              "      <td>4923</td>\n",
              "      <td>781708.80</td>\n",
              "      <td>158.79</td>\n",
              "    </tr>\n",
              "    <tr>\n",
              "      <th>5</th>\n",
              "      <td>SC</td>\n",
              "      <td>3546</td>\n",
              "      <td>595127.78</td>\n",
              "      <td>167.83</td>\n",
              "    </tr>\n",
              "    <tr>\n",
              "      <th>6</th>\n",
              "      <td>BA</td>\n",
              "      <td>3256</td>\n",
              "      <td>591137.81</td>\n",
              "      <td>181.55</td>\n",
              "    </tr>\n",
              "    <tr>\n",
              "      <th>7</th>\n",
              "      <td>DF</td>\n",
              "      <td>2080</td>\n",
              "      <td>346123.35</td>\n",
              "      <td>166.41</td>\n",
              "    </tr>\n",
              "    <tr>\n",
              "      <th>8</th>\n",
              "      <td>GO</td>\n",
              "      <td>1957</td>\n",
              "      <td>334212.35</td>\n",
              "      <td>170.78</td>\n",
              "    </tr>\n",
              "    <tr>\n",
              "      <th>9</th>\n",
              "      <td>ES</td>\n",
              "      <td>1995</td>\n",
              "      <td>317657.93</td>\n",
              "      <td>159.23</td>\n",
              "    </tr>\n",
              "  </tbody>\n",
              "</table>\n",
              "</div>"
            ],
            "text/plain": [
              "  customer_state  num_orders  total_revenue  avg_basket\n",
              "0             SP       40501     5769703.15      142.46\n",
              "1             RJ       12350     2055401.57      166.43\n",
              "2             MG       11354     1818891.67      160.20\n",
              "3             RS        5345      861472.79      161.17\n",
              "4             PR        4923      781708.80      158.79\n",
              "5             SC        3546      595127.78      167.83\n",
              "6             BA        3256      591137.81      181.55\n",
              "7             DF        2080      346123.35      166.41\n",
              "8             GO        1957      334212.35      170.78\n",
              "9             ES        1995      317657.93      159.23"
            ]
          },
          "execution_count": 60,
          "metadata": {},
          "output_type": "execute_result"
        }
      ],
      "source": [
        "geographic_sales_analysis()\n"
      ]
    },
    {
      "cell_type": "code",
      "execution_count": 71,
      "metadata": {},
      "outputs": [],
      "source": [
        "def geographic_sales_mom():\n",
        "    \"\"\"\n",
        "    2. Croissance MoM par état/région\n",
        "    \"\"\"\n",
        "    query_mom_growth = \"\"\"\n",
        "    WITH monthly_revenue AS (\n",
        "        SELECT \n",
        "            c.customer_state,\n",
        "            DATE_TRUNC('month', o.order_date) AS month,\n",
        "            ROUND(SUM(oi.price + oi.freight_value), 2) AS revenue\n",
        "        FROM customers c\n",
        "        JOIN orders o ON c.customer_id = o.customer_id\n",
        "        JOIN order_items oi ON o.order_id = oi.order_id\n",
        "        WHERE o.order_status = 'delivered'\n",
        "        GROUP BY c.customer_state, DATE_TRUNC('month', o.order_date)\n",
        "    )\n",
        "\n",
        "    SELECT\n",
        "        customer_state,\n",
        "        month,\n",
        "        revenue,\n",
        "        LAG(revenue) OVER (PARTITION BY customer_state ORDER BY month) AS previous_month_revenue,\n",
        "        ROUND(\n",
        "            CASE \n",
        "                WHEN LAG(revenue) OVER (PARTITION BY customer_state ORDER BY month) = 0 THEN NULL\n",
        "                ELSE \n",
        "                    (revenue - LAG(revenue) OVER (PARTITION BY customer_state ORDER BY month)) \n",
        "                    / LAG(revenue) OVER (PARTITION BY customer_state ORDER BY month)\n",
        "            END,\n",
        "            3\n",
        "        ) AS growth_rate\n",
        "    FROM monthly_revenue\n",
        "    ORDER BY customer_state, month;\n",
        "    \"\"\"\n",
        "\n",
        "    return pd.read_sql(query_mom_growth, engine)\n"
      ]
    },
    {
      "cell_type": "code",
      "execution_count": 73,
      "metadata": {},
      "outputs": [
        {
          "data": {
            "application/vnd.microsoft.datawrangler.viewer.v0+json": {
              "columns": [
                {
                  "name": "index",
                  "rawType": "int64",
                  "type": "integer"
                },
                {
                  "name": "customer_state",
                  "rawType": "object",
                  "type": "string"
                },
                {
                  "name": "month",
                  "rawType": "datetime64[ns]",
                  "type": "datetime"
                },
                {
                  "name": "revenue",
                  "rawType": "float64",
                  "type": "float"
                },
                {
                  "name": "previous_month_revenue",
                  "rawType": "float64",
                  "type": "float"
                },
                {
                  "name": "growth_rate",
                  "rawType": "float64",
                  "type": "float"
                }
              ],
              "ref": "e1a9c903-b570-4b54-ae31-beeb1de24c6e",
              "rows": [
                [
                  "0",
                  "AC",
                  "2017-01-01 00:00:00",
                  "723.14",
                  null,
                  null
                ],
                [
                  "1",
                  "AC",
                  "2017-02-01 00:00:00",
                  "597.4",
                  "723.14",
                  "-0.174"
                ],
                [
                  "2",
                  "AC",
                  "2017-03-01 00:00:00",
                  "530.18",
                  "597.4",
                  "-0.113"
                ],
                [
                  "3",
                  "AC",
                  "2017-04-01 00:00:00",
                  "1351.51",
                  "530.18",
                  "1.549"
                ],
                [
                  "4",
                  "AC",
                  "2017-05-01 00:00:00",
                  "2371.73",
                  "1351.51",
                  "0.755"
                ],
                [
                  "5",
                  "AC",
                  "2017-06-01 00:00:00",
                  "510.27",
                  "2371.73",
                  "-0.785"
                ],
                [
                  "6",
                  "AC",
                  "2017-07-01 00:00:00",
                  "794.4",
                  "510.27",
                  "0.557"
                ],
                [
                  "7",
                  "AC",
                  "2017-08-01 00:00:00",
                  "765.83",
                  "794.4",
                  "-0.036"
                ],
                [
                  "8",
                  "AC",
                  "2017-09-01 00:00:00",
                  "2029.23",
                  "765.83",
                  "1.65"
                ],
                [
                  "9",
                  "AC",
                  "2017-10-01 00:00:00",
                  "863.8",
                  "2029.23",
                  "-0.574"
                ],
                [
                  "10",
                  "AC",
                  "2017-11-01 00:00:00",
                  "945.16",
                  "863.8",
                  "0.094"
                ],
                [
                  "11",
                  "AC",
                  "2017-12-01 00:00:00",
                  "1409.58",
                  "945.16",
                  "0.491"
                ],
                [
                  "12",
                  "AC",
                  "2018-01-01 00:00:00",
                  "1157.89",
                  "1409.58",
                  "-0.179"
                ],
                [
                  "13",
                  "AC",
                  "2018-02-01 00:00:00",
                  "299.22",
                  "1157.89",
                  "-0.742"
                ],
                [
                  "14",
                  "AC",
                  "2018-03-01 00:00:00",
                  "164.67",
                  "299.22",
                  "-0.45"
                ],
                [
                  "15",
                  "AC",
                  "2018-04-01 00:00:00",
                  "588.17",
                  "164.67",
                  "2.572"
                ],
                [
                  "16",
                  "AC",
                  "2018-05-01 00:00:00",
                  "1501.42",
                  "588.17",
                  "1.553"
                ],
                [
                  "17",
                  "AC",
                  "2018-06-01 00:00:00",
                  "597.26",
                  "1501.42",
                  "-0.602"
                ],
                [
                  "18",
                  "AC",
                  "2018-07-01 00:00:00",
                  "1769.95",
                  "597.26",
                  "1.963"
                ],
                [
                  "19",
                  "AC",
                  "2018-08-01 00:00:00",
                  "604.52",
                  "1769.95",
                  "-0.658"
                ],
                [
                  "20",
                  "AL",
                  "2016-10-01 00:00:00",
                  "76.6",
                  null,
                  null
                ],
                [
                  "21",
                  "AL",
                  "2017-01-01 00:00:00",
                  "454.36",
                  "76.6",
                  "4.932"
                ],
                [
                  "22",
                  "AL",
                  "2017-02-01 00:00:00",
                  "2967.87",
                  "454.36",
                  "5.532"
                ],
                [
                  "23",
                  "AL",
                  "2017-03-01 00:00:00",
                  "1421.5",
                  "2967.87",
                  "-0.521"
                ],
                [
                  "24",
                  "AL",
                  "2017-04-01 00:00:00",
                  "5169.93",
                  "1421.5",
                  "2.637"
                ],
                [
                  "25",
                  "AL",
                  "2017-05-01 00:00:00",
                  "5634.42",
                  "5169.93",
                  "0.09"
                ],
                [
                  "26",
                  "AL",
                  "2017-06-01 00:00:00",
                  "1268.97",
                  "5634.42",
                  "-0.775"
                ],
                [
                  "27",
                  "AL",
                  "2017-07-01 00:00:00",
                  "2839.57",
                  "1268.97",
                  "1.238"
                ],
                [
                  "28",
                  "AL",
                  "2017-08-01 00:00:00",
                  "9558.32",
                  "2839.57",
                  "2.366"
                ],
                [
                  "29",
                  "AL",
                  "2017-09-01 00:00:00",
                  "5093.78",
                  "9558.32",
                  "-0.467"
                ],
                [
                  "30",
                  "AL",
                  "2017-10-01 00:00:00",
                  "6341.58",
                  "5093.78",
                  "0.245"
                ],
                [
                  "31",
                  "AL",
                  "2017-11-01 00:00:00",
                  "7441.47",
                  "6341.58",
                  "0.173"
                ],
                [
                  "32",
                  "AL",
                  "2017-12-01 00:00:00",
                  "2680.76",
                  "7441.47",
                  "-0.64"
                ],
                [
                  "33",
                  "AL",
                  "2018-01-01 00:00:00",
                  "6218.42",
                  "2680.76",
                  "1.32"
                ],
                [
                  "34",
                  "AL",
                  "2018-02-01 00:00:00",
                  "5680.85",
                  "6218.42",
                  "-0.086"
                ],
                [
                  "35",
                  "AL",
                  "2018-03-01 00:00:00",
                  "7465.31",
                  "5680.85",
                  "0.314"
                ],
                [
                  "36",
                  "AL",
                  "2018-04-01 00:00:00",
                  "7006.46",
                  "7465.31",
                  "-0.061"
                ],
                [
                  "37",
                  "AL",
                  "2018-05-01 00:00:00",
                  "4393.1",
                  "7006.46",
                  "-0.373"
                ],
                [
                  "38",
                  "AL",
                  "2018-06-01 00:00:00",
                  "4852.93",
                  "4393.1",
                  "0.105"
                ],
                [
                  "39",
                  "AL",
                  "2018-07-01 00:00:00",
                  "4692.58",
                  "4852.93",
                  "-0.033"
                ],
                [
                  "40",
                  "AL",
                  "2018-08-01 00:00:00",
                  "2913.71",
                  "4692.58",
                  "-0.379"
                ],
                [
                  "41",
                  "AM",
                  "2017-02-01 00:00:00",
                  "1122.54",
                  null,
                  null
                ],
                [
                  "42",
                  "AM",
                  "2017-03-01 00:00:00",
                  "793.39",
                  "1122.54",
                  "-0.293"
                ],
                [
                  "43",
                  "AM",
                  "2017-04-01 00:00:00",
                  "1176.23",
                  "793.39",
                  "0.483"
                ],
                [
                  "44",
                  "AM",
                  "2017-05-01 00:00:00",
                  "1244.49",
                  "1176.23",
                  "0.058"
                ],
                [
                  "45",
                  "AM",
                  "2017-06-01 00:00:00",
                  "204.84",
                  "1244.49",
                  "-0.835"
                ],
                [
                  "46",
                  "AM",
                  "2017-07-01 00:00:00",
                  "951.4",
                  "204.84",
                  "3.645"
                ],
                [
                  "47",
                  "AM",
                  "2017-08-01 00:00:00",
                  "1483.41",
                  "951.4",
                  "0.559"
                ],
                [
                  "48",
                  "AM",
                  "2017-09-01 00:00:00",
                  "1518.44",
                  "1483.41",
                  "0.024"
                ],
                [
                  "49",
                  "AM",
                  "2017-10-01 00:00:00",
                  "164.56",
                  "1518.44",
                  "-0.892"
                ]
              ],
              "shape": {
                "columns": 5,
                "rows": 556
              }
            },
            "text/html": [
              "<div>\n",
              "<style scoped>\n",
              "    .dataframe tbody tr th:only-of-type {\n",
              "        vertical-align: middle;\n",
              "    }\n",
              "\n",
              "    .dataframe tbody tr th {\n",
              "        vertical-align: top;\n",
              "    }\n",
              "\n",
              "    .dataframe thead th {\n",
              "        text-align: right;\n",
              "    }\n",
              "</style>\n",
              "<table border=\"1\" class=\"dataframe\">\n",
              "  <thead>\n",
              "    <tr style=\"text-align: right;\">\n",
              "      <th></th>\n",
              "      <th>customer_state</th>\n",
              "      <th>month</th>\n",
              "      <th>revenue</th>\n",
              "      <th>previous_month_revenue</th>\n",
              "      <th>growth_rate</th>\n",
              "    </tr>\n",
              "  </thead>\n",
              "  <tbody>\n",
              "    <tr>\n",
              "      <th>0</th>\n",
              "      <td>AC</td>\n",
              "      <td>2017-01-01</td>\n",
              "      <td>723.14</td>\n",
              "      <td>NaN</td>\n",
              "      <td>NaN</td>\n",
              "    </tr>\n",
              "    <tr>\n",
              "      <th>1</th>\n",
              "      <td>AC</td>\n",
              "      <td>2017-02-01</td>\n",
              "      <td>597.40</td>\n",
              "      <td>723.14</td>\n",
              "      <td>-0.174</td>\n",
              "    </tr>\n",
              "    <tr>\n",
              "      <th>2</th>\n",
              "      <td>AC</td>\n",
              "      <td>2017-03-01</td>\n",
              "      <td>530.18</td>\n",
              "      <td>597.40</td>\n",
              "      <td>-0.113</td>\n",
              "    </tr>\n",
              "    <tr>\n",
              "      <th>3</th>\n",
              "      <td>AC</td>\n",
              "      <td>2017-04-01</td>\n",
              "      <td>1351.51</td>\n",
              "      <td>530.18</td>\n",
              "      <td>1.549</td>\n",
              "    </tr>\n",
              "    <tr>\n",
              "      <th>4</th>\n",
              "      <td>AC</td>\n",
              "      <td>2017-05-01</td>\n",
              "      <td>2371.73</td>\n",
              "      <td>1351.51</td>\n",
              "      <td>0.755</td>\n",
              "    </tr>\n",
              "    <tr>\n",
              "      <th>...</th>\n",
              "      <td>...</td>\n",
              "      <td>...</td>\n",
              "      <td>...</td>\n",
              "      <td>...</td>\n",
              "      <td>...</td>\n",
              "    </tr>\n",
              "    <tr>\n",
              "      <th>551</th>\n",
              "      <td>TO</td>\n",
              "      <td>2018-04-01</td>\n",
              "      <td>5370.51</td>\n",
              "      <td>5579.63</td>\n",
              "      <td>-0.037</td>\n",
              "    </tr>\n",
              "    <tr>\n",
              "      <th>552</th>\n",
              "      <td>TO</td>\n",
              "      <td>2018-05-01</td>\n",
              "      <td>3314.33</td>\n",
              "      <td>5370.51</td>\n",
              "      <td>-0.383</td>\n",
              "    </tr>\n",
              "    <tr>\n",
              "      <th>553</th>\n",
              "      <td>TO</td>\n",
              "      <td>2018-06-01</td>\n",
              "      <td>4987.03</td>\n",
              "      <td>3314.33</td>\n",
              "      <td>0.505</td>\n",
              "    </tr>\n",
              "    <tr>\n",
              "      <th>554</th>\n",
              "      <td>TO</td>\n",
              "      <td>2018-07-01</td>\n",
              "      <td>3795.09</td>\n",
              "      <td>4987.03</td>\n",
              "      <td>-0.239</td>\n",
              "    </tr>\n",
              "    <tr>\n",
              "      <th>555</th>\n",
              "      <td>TO</td>\n",
              "      <td>2018-08-01</td>\n",
              "      <td>2665.51</td>\n",
              "      <td>3795.09</td>\n",
              "      <td>-0.298</td>\n",
              "    </tr>\n",
              "  </tbody>\n",
              "</table>\n",
              "<p>556 rows × 5 columns</p>\n",
              "</div>"
            ],
            "text/plain": [
              "    customer_state      month  revenue  previous_month_revenue  growth_rate\n",
              "0               AC 2017-01-01   723.14                     NaN          NaN\n",
              "1               AC 2017-02-01   597.40                  723.14       -0.174\n",
              "2               AC 2017-03-01   530.18                  597.40       -0.113\n",
              "3               AC 2017-04-01  1351.51                  530.18        1.549\n",
              "4               AC 2017-05-01  2371.73                 1351.51        0.755\n",
              "..             ...        ...      ...                     ...          ...\n",
              "551             TO 2018-04-01  5370.51                 5579.63       -0.037\n",
              "552             TO 2018-05-01  3314.33                 5370.51       -0.383\n",
              "553             TO 2018-06-01  4987.03                 3314.33        0.505\n",
              "554             TO 2018-07-01  3795.09                 4987.03       -0.239\n",
              "555             TO 2018-08-01  2665.51                 3795.09       -0.298\n",
              "\n",
              "[556 rows x 5 columns]"
            ]
          },
          "execution_count": 73,
          "metadata": {},
          "output_type": "execute_result"
        }
      ],
      "source": [
        "geographic_sales_mom()"
      ]
    },
    {
      "cell_type": "code",
      "execution_count": 87,
      "metadata": {},
      "outputs": [],
      "source": [
        "def conversion_rate_by_city():\n",
        "    \"\"\"\n",
        "    3. Taux de conversion par ville\n",
        "    \"\"\"\n",
        "    query_conversion = \"\"\"\n",
        "    WITH total_clients AS (\n",
        "        SELECT \n",
        "            customer_city,\n",
        "            COUNT(DISTINCT customer_id) AS total_clients\n",
        "        FROM customers\n",
        "        GROUP BY customer_city\n",
        "    ),\n",
        "\n",
        "    clients_with_orders AS (\n",
        "        SELECT \n",
        "            c.customer_city,\n",
        "            COUNT(DISTINCT c.customer_id) AS ordering_clients\n",
        "        FROM customers c\n",
        "        JOIN orders o ON c.customer_id = o.customer_id\n",
        "        WHERE o.order_status = 'delivered'\n",
        "        GROUP BY c.customer_city\n",
        "    )\n",
        "\n",
        "    SELECT \n",
        "        t.customer_city,\n",
        "        t.total_clients,\n",
        "        COALESCE(o.ordering_clients, 0) AS ordering_clients,\n",
        "        ROUND(CAST(COALESCE(o.ordering_clients, 0) AS NUMERIC) / t.total_clients,3) AS conversion_rate\n",
        "    FROM total_clients t\n",
        "    LEFT JOIN clients_with_orders o ON t.customer_city = o.customer_city\n",
        "    WHERE t.total_clients >= 50\n",
        "    ORDER BY conversion_rate DESC\n",
        "    LIMIT 20;\n",
        "    \"\"\"\n",
        "\n",
        "    return pd.read_sql(query_conversion, engine)\n"
      ]
    },
    {
      "cell_type": "code",
      "execution_count": 88,
      "metadata": {},
      "outputs": [
        {
          "data": {
            "application/vnd.microsoft.datawrangler.viewer.v0+json": {
              "columns": [
                {
                  "name": "index",
                  "rawType": "int64",
                  "type": "integer"
                },
                {
                  "name": "customer_city",
                  "rawType": "object",
                  "type": "string"
                },
                {
                  "name": "total_clients",
                  "rawType": "int64",
                  "type": "integer"
                },
                {
                  "name": "ordering_clients",
                  "rawType": "int64",
                  "type": "integer"
                },
                {
                  "name": "conversion_rate",
                  "rawType": "float64",
                  "type": "float"
                }
              ],
              "ref": "d3619221-6141-46c6-8f8f-ac412a1175cb",
              "rows": [
                [
                  "0",
                  "leme",
                  "50",
                  "50",
                  "1.0"
                ],
                [
                  "1",
                  "mesquita",
                  "76",
                  "76",
                  "1.0"
                ],
                [
                  "2",
                  "itapevi",
                  "170",
                  "170",
                  "1.0"
                ],
                [
                  "3",
                  "lajeado",
                  "51",
                  "51",
                  "1.0"
                ],
                [
                  "4",
                  "jatai",
                  "54",
                  "54",
                  "1.0"
                ],
                [
                  "5",
                  "mairipora",
                  "75",
                  "75",
                  "1.0"
                ],
                [
                  "6",
                  "cruzeiro",
                  "56",
                  "56",
                  "1.0"
                ],
                [
                  "7",
                  "cubatao",
                  "79",
                  "79",
                  "1.0"
                ],
                [
                  "8",
                  "campo mourao",
                  "56",
                  "56",
                  "1.0"
                ],
                [
                  "9",
                  "araguari",
                  "54",
                  "54",
                  "1.0"
                ],
                [
                  "10",
                  "itatiba",
                  "97",
                  "97",
                  "1.0"
                ],
                [
                  "11",
                  "cachoeirinha",
                  "72",
                  "72",
                  "1.0"
                ],
                [
                  "12",
                  "ijui",
                  "52",
                  "52",
                  "1.0"
                ],
                [
                  "13",
                  "araucaria",
                  "54",
                  "54",
                  "1.0"
                ],
                [
                  "14",
                  "alvorada",
                  "56",
                  "56",
                  "1.0"
                ],
                [
                  "15",
                  "bebedouro",
                  "51",
                  "51",
                  "1.0"
                ],
                [
                  "16",
                  "assis",
                  "84",
                  "84",
                  "1.0"
                ],
                [
                  "17",
                  "caratinga",
                  "62",
                  "62",
                  "1.0"
                ],
                [
                  "18",
                  "brusque",
                  "60",
                  "60",
                  "1.0"
                ],
                [
                  "19",
                  "pato branco",
                  "53",
                  "53",
                  "1.0"
                ]
              ],
              "shape": {
                "columns": 4,
                "rows": 20
              }
            },
            "text/html": [
              "<div>\n",
              "<style scoped>\n",
              "    .dataframe tbody tr th:only-of-type {\n",
              "        vertical-align: middle;\n",
              "    }\n",
              "\n",
              "    .dataframe tbody tr th {\n",
              "        vertical-align: top;\n",
              "    }\n",
              "\n",
              "    .dataframe thead th {\n",
              "        text-align: right;\n",
              "    }\n",
              "</style>\n",
              "<table border=\"1\" class=\"dataframe\">\n",
              "  <thead>\n",
              "    <tr style=\"text-align: right;\">\n",
              "      <th></th>\n",
              "      <th>customer_city</th>\n",
              "      <th>total_clients</th>\n",
              "      <th>ordering_clients</th>\n",
              "      <th>conversion_rate</th>\n",
              "    </tr>\n",
              "  </thead>\n",
              "  <tbody>\n",
              "    <tr>\n",
              "      <th>0</th>\n",
              "      <td>leme</td>\n",
              "      <td>50</td>\n",
              "      <td>50</td>\n",
              "      <td>1.0</td>\n",
              "    </tr>\n",
              "    <tr>\n",
              "      <th>1</th>\n",
              "      <td>mesquita</td>\n",
              "      <td>76</td>\n",
              "      <td>76</td>\n",
              "      <td>1.0</td>\n",
              "    </tr>\n",
              "    <tr>\n",
              "      <th>2</th>\n",
              "      <td>itapevi</td>\n",
              "      <td>170</td>\n",
              "      <td>170</td>\n",
              "      <td>1.0</td>\n",
              "    </tr>\n",
              "    <tr>\n",
              "      <th>3</th>\n",
              "      <td>lajeado</td>\n",
              "      <td>51</td>\n",
              "      <td>51</td>\n",
              "      <td>1.0</td>\n",
              "    </tr>\n",
              "    <tr>\n",
              "      <th>4</th>\n",
              "      <td>jatai</td>\n",
              "      <td>54</td>\n",
              "      <td>54</td>\n",
              "      <td>1.0</td>\n",
              "    </tr>\n",
              "    <tr>\n",
              "      <th>5</th>\n",
              "      <td>mairipora</td>\n",
              "      <td>75</td>\n",
              "      <td>75</td>\n",
              "      <td>1.0</td>\n",
              "    </tr>\n",
              "    <tr>\n",
              "      <th>6</th>\n",
              "      <td>cruzeiro</td>\n",
              "      <td>56</td>\n",
              "      <td>56</td>\n",
              "      <td>1.0</td>\n",
              "    </tr>\n",
              "    <tr>\n",
              "      <th>7</th>\n",
              "      <td>cubatao</td>\n",
              "      <td>79</td>\n",
              "      <td>79</td>\n",
              "      <td>1.0</td>\n",
              "    </tr>\n",
              "    <tr>\n",
              "      <th>8</th>\n",
              "      <td>campo mourao</td>\n",
              "      <td>56</td>\n",
              "      <td>56</td>\n",
              "      <td>1.0</td>\n",
              "    </tr>\n",
              "    <tr>\n",
              "      <th>9</th>\n",
              "      <td>araguari</td>\n",
              "      <td>54</td>\n",
              "      <td>54</td>\n",
              "      <td>1.0</td>\n",
              "    </tr>\n",
              "    <tr>\n",
              "      <th>10</th>\n",
              "      <td>itatiba</td>\n",
              "      <td>97</td>\n",
              "      <td>97</td>\n",
              "      <td>1.0</td>\n",
              "    </tr>\n",
              "    <tr>\n",
              "      <th>11</th>\n",
              "      <td>cachoeirinha</td>\n",
              "      <td>72</td>\n",
              "      <td>72</td>\n",
              "      <td>1.0</td>\n",
              "    </tr>\n",
              "    <tr>\n",
              "      <th>12</th>\n",
              "      <td>ijui</td>\n",
              "      <td>52</td>\n",
              "      <td>52</td>\n",
              "      <td>1.0</td>\n",
              "    </tr>\n",
              "    <tr>\n",
              "      <th>13</th>\n",
              "      <td>araucaria</td>\n",
              "      <td>54</td>\n",
              "      <td>54</td>\n",
              "      <td>1.0</td>\n",
              "    </tr>\n",
              "    <tr>\n",
              "      <th>14</th>\n",
              "      <td>alvorada</td>\n",
              "      <td>56</td>\n",
              "      <td>56</td>\n",
              "      <td>1.0</td>\n",
              "    </tr>\n",
              "    <tr>\n",
              "      <th>15</th>\n",
              "      <td>bebedouro</td>\n",
              "      <td>51</td>\n",
              "      <td>51</td>\n",
              "      <td>1.0</td>\n",
              "    </tr>\n",
              "    <tr>\n",
              "      <th>16</th>\n",
              "      <td>assis</td>\n",
              "      <td>84</td>\n",
              "      <td>84</td>\n",
              "      <td>1.0</td>\n",
              "    </tr>\n",
              "    <tr>\n",
              "      <th>17</th>\n",
              "      <td>caratinga</td>\n",
              "      <td>62</td>\n",
              "      <td>62</td>\n",
              "      <td>1.0</td>\n",
              "    </tr>\n",
              "    <tr>\n",
              "      <th>18</th>\n",
              "      <td>brusque</td>\n",
              "      <td>60</td>\n",
              "      <td>60</td>\n",
              "      <td>1.0</td>\n",
              "    </tr>\n",
              "    <tr>\n",
              "      <th>19</th>\n",
              "      <td>pato branco</td>\n",
              "      <td>53</td>\n",
              "      <td>53</td>\n",
              "      <td>1.0</td>\n",
              "    </tr>\n",
              "  </tbody>\n",
              "</table>\n",
              "</div>"
            ],
            "text/plain": [
              "   customer_city  total_clients  ordering_clients  conversion_rate\n",
              "0           leme             50                50              1.0\n",
              "1       mesquita             76                76              1.0\n",
              "2        itapevi            170               170              1.0\n",
              "3        lajeado             51                51              1.0\n",
              "4          jatai             54                54              1.0\n",
              "5      mairipora             75                75              1.0\n",
              "6       cruzeiro             56                56              1.0\n",
              "7        cubatao             79                79              1.0\n",
              "8   campo mourao             56                56              1.0\n",
              "9       araguari             54                54              1.0\n",
              "10       itatiba             97                97              1.0\n",
              "11  cachoeirinha             72                72              1.0\n",
              "12          ijui             52                52              1.0\n",
              "13     araucaria             54                54              1.0\n",
              "14      alvorada             56                56              1.0\n",
              "15     bebedouro             51                51              1.0\n",
              "16         assis             84                84              1.0\n",
              "17     caratinga             62                62              1.0\n",
              "18       brusque             60                60              1.0\n",
              "19   pato branco             53                53              1.0"
            ]
          },
          "execution_count": 88,
          "metadata": {},
          "output_type": "execute_result"
        }
      ],
      "source": [
        "conversion_rate_by_city()"
      ]
    },
    {
      "cell_type": "markdown",
      "metadata": {
        "id": "7OE-UHLKY8-K"
      },
      "source": [
        "#### 3. Analyse temporelle et saisonnalité\n",
        "```sql\n",
        "-- Détectez les patterns saisonniers\n",
        "SELECT\n",
        "    EXTRACT(YEAR FROM order_date) as year,\n",
        "    EXTRACT(MONTH FROM order_date) as month,\n",
        "    EXTRACT(DOW FROM order_date) as day_of_week,\n",
        "    COUNT(*) as order_count,\n",
        "    SUM(price + freight_value) as total_revenue,\n",
        "    AVG(price + freight_value) as avg_order_value\n",
        "FROM orders o\n",
        "JOIN order_items oi ON o.order_id = oi.order_id\n",
        "WHERE order_status = 'delivered'\n",
        "GROUP BY ROLLUP(\n",
        "    EXTRACT(YEAR FROM order_date),\n",
        "    EXTRACT(MONTH FROM order_date),\n",
        "    EXTRACT(DOW FROM order_date)\n",
        ")\n",
        "ORDER BY year, month, day_of_week;\n",
        "```\n",
        "\n",
        "---"
      ]
    },
    {
      "cell_type": "code",
      "execution_count": 92,
      "metadata": {},
      "outputs": [],
      "source": [
        "def temporal_seasonality_analysis():\n",
        "    \"\"\"\n",
        "    3. Analyse temporelle et saisonnalité : par année, mois, jour de la semaine\n",
        "    \"\"\"\n",
        "    query = \"\"\"\n",
        "    SELECT\n",
        "        EXTRACT(YEAR FROM o.order_purchase_timestamp) as year,\n",
        "        EXTRACT(MONTH FROM o.order_purchase_timestamp) as month,\n",
        "        EXTRACT(DOW FROM o.order_purchase_timestamp) as day_of_week,\n",
        "        COUNT(*) as order_count,\n",
        "        SUM(oi.price + oi.freight_value) as total_revenue,\n",
        "        AVG(oi.price + oi.freight_value) as avg_order_value\n",
        "    FROM orders o\n",
        "    JOIN order_items oi ON o.order_id = oi.order_id\n",
        "    WHERE o.order_status = 'delivered'\n",
        "    GROUP BY ROLLUP(\n",
        "        EXTRACT(YEAR FROM o.order_purchase_timestamp),\n",
        "        EXTRACT(MONTH FROM o.order_purchase_timestamp),\n",
        "        EXTRACT(DOW FROM o.order_purchase_timestamp)\n",
        "    )\n",
        "    ORDER BY year, month, day_of_week;\n",
        "    \"\"\"\n",
        "    \n",
        "    return pd.read_sql(query, engine)\n"
      ]
    },
    {
      "cell_type": "markdown",
      "metadata": {
        "id": "Xq43e3mfZC8d"
      },
      "source": [
        "## Partie 4 : Analyse prédictive avec SQL\n",
        "\n",
        "### 🔮 Modèles simples en SQL"
      ]
    },
    {
      "cell_type": "code",
      "execution_count": null,
      "metadata": {
        "id": "bY5mfxFoaL2K"
      },
      "outputs": [],
      "source": [
        "#### 1. Prédiction de churn\n",
        "\n",
        "def churn_prediction_sql():\n",
        "    \"\"\"\n",
        "    Identifiez les clients à risque de churn\n",
        "\n",
        "    Indicateurs :\n",
        "    - Pas d'achat depuis X jours\n",
        "    - Baisse de fréquence d'achat\n",
        "    - Diminution du panier moyen\n",
        "    - Changement de comportement géographique\n",
        "    \"\"\"\n",
        "\n",
        "    churn_query = \"\"\"\n",
        "    WITH customer_activity AS (\n",
        "        -- Calculez les métriques d'activité récente\n",
        "        -- Comparez avec l'historique du client\n",
        "        -- Scorez le risque de churn\n",
        "    )\n",
        "\n",
        "    SELECT\n",
        "        customer_id,\n",
        "        days_since_last_order,\n",
        "        order_frequency_trend,\n",
        "        monetary_trend,\n",
        "        churn_risk_score,\n",
        "        CASE\n",
        "            WHEN churn_risk_score > 0.7 THEN 'High Risk'\n",
        "            WHEN churn_risk_score > 0.4 THEN 'Medium Risk'\n",
        "            ELSE 'Low Risk'\n",
        "        END as churn_segment\n",
        "    FROM customer_activity;\n",
        "    \"\"\"\n",
        "\n",
        "    return pd.read_sql(churn_query, engine)\n"
      ]
    },
    {
      "cell_type": "markdown",
      "metadata": {
        "id": "IB2D1PDraVu4"
      },
      "source": [
        "#### 2. Recommandations produits\n",
        "```sql\n",
        "-- Market Basket Analysis simplifié\n",
        "WITH product_pairs AS (\n",
        "    SELECT\n",
        "        oi1.product_id as product_a,\n",
        "        oi2.product_id as product_b,\n",
        "        COUNT(*) as co_purchase_count\n",
        "    FROM order_items oi1\n",
        "    JOIN order_items oi2 ON oi1.order_id = oi2.order_id\n",
        "    WHERE oi1.product_id != oi2.product_id\n",
        "    GROUP BY oi1.product_id, oi2.product_id\n",
        "    HAVING COUNT(*) >= 10  -- Seuil minimum\n",
        ")\n",
        "\n",
        "SELECT\n",
        "    product_a,\n",
        "    product_b,\n",
        "    co_purchase_count,\n",
        "    co_purchase_count::float / total_a.count as confidence\n",
        "FROM product_pairs pp\n",
        "JOIN (\n",
        "    SELECT product_id, COUNT(*) as count\n",
        "    FROM order_items\n",
        "    GROUP BY product_id\n",
        ") total_a ON pp.product_a = total_a.product_id\n",
        "ORDER BY confidence DESC;\n",
        "```\n",
        "\n",
        "---"
      ]
    },
    {
      "cell_type": "markdown",
      "metadata": {
        "id": "dbYkj8ItabH-"
      },
      "source": [
        "## Partie 5 : Intégration avec les APIs météo"
      ]
    },
    {
      "cell_type": "markdown",
      "metadata": {
        "id": "x4CU6SNEfNXb"
      },
      "source": [
        "### 🌤️ Croisement données météo/ventes\n",
        "```python\n",
        "def weather_sales_correlation():\n",
        "    \"\"\"\n",
        "    Correlez vos données météo du Notebook 1 avec les ventes\n",
        "    \n",
        "    Hypothèses à tester :\n",
        "    1. Les ventes de certaines catégories augmentent-elles avec la pluie ?\n",
        "    2. Y a-t-il un impact de la température sur les achats ?\n",
        "    3. Les livraisons sont-elles impactées par la météo ?\n",
        "    \"\"\"\n",
        "    \n",
        "    # Récupérez les données météo historiques pour les villes brésiliennes\n",
        "    weather_query = \"\"\"\n",
        "    SELECT DISTINCT customer_city, customer_state\n",
        "    FROM customers\n",
        "    WHERE customer_state IN ('SP', 'RJ', 'MG', 'RS', 'SC')\n",
        "    ORDER BY customer_city;\n",
        "    \"\"\"\n",
        "    \n",
        "    cities = pd.read_sql(weather_query, engine)\n",
        "    \n",
        "    # Intégrez avec l'API météo\n",
        "    # Analysez les corrélations\n",
        "    \n",
        "    pass\n",
        "```"
      ]
    },
    {
      "cell_type": "markdown",
      "metadata": {
        "id": "XHG9k_5PfZXd"
      },
      "source": [
        "### 📊 Dashboard géo-temporel\n",
        "```python\n",
        "def create_geotemporal_dashboard():\n",
        "    \"\"\"\n",
        "    Créez un dashboard interactif combinant :\n",
        "    - Carte des ventes par région\n",
        "    - Évolution temporelle avec météo\n",
        "    - Segments clients géolocalisés\n",
        "    - Prédictions par zone géographique\n",
        "    \"\"\"\n",
        "    pass\n",
        "```"
      ]
    },
    {
      "cell_type": "markdown",
      "metadata": {
        "id": "EsIuD-IVfnxW"
      },
      "source": [
        "---\n",
        "## 🏆 Livrables finaux\n",
        "\n",
        "### 📈 Rapport d'analyse complet\n",
        "1. **Segmentation RFM (Recency, Frenquency, Monetary) ** : 5-7 segments avec caractéristiques\n",
        "2. **Analyse géographique**  : Performances par région + recommandations\n",
        "3. **Prédictions churn** : Liste des clients à risque + actions\n",
        "4. **Recommandations produits** : Top 10 des associations\n",
        "5. **Impact météo** : Corrélations significatives identifiées\n",
        "\n",
        "### 🚀 Pipeline automatisé\n",
        "```python\n",
        "def automated_analysis_pipeline():\n",
        "    \"\"\"\n",
        "    Pipeline qui :\n",
        "    1. Se connecte à la DB\n",
        "    2. Exécute toutes les analyses\n",
        "    3. Met à jour les segments clients\n",
        "    4. Génère le rapport automatiquement\n",
        "    5. Envoie des alertes si nécessaire\n",
        "    \"\"\"\n",
        "    pass\n",
        "```\n",
        "\n",
        "---"
      ]
    },
    {
      "cell_type": "markdown",
      "metadata": {
        "id": "wynvmdtNftwf"
      },
      "source": [
        "## 🎓 Auto-évaluation\n",
        "\n",
        "- [ ] **Connexion DB** : PostgreSQL fonctionnelle\n",
        "- [ ] **Requêtes complexes** : JOINs, CTEs, fonctions analytiques\n",
        "- [ ] **Gestion des erreurs** : Connexions robustes\n",
        "- [ ] **Performance** : Requêtes optimisées avec index\n",
        "- [ ] **Intégration** : SQL + Python + APIs\n",
        "- [ ] **Insights actionables** : Recommandations business claires\n",
        "\n",
        "### 🔗 Préparation au Notebook 3\n",
        "Le prochain notebook portera sur NoSQL (MongoDB) avec des données de réseaux sociaux et d'IoT, en temps réel.\n",
        "\n",
        "### 💡 Bases de données alternatives\n",
        "- **PlanetScale** : MySQL serverless gratuit\n",
        "- **MongoDB Atlas** : 512MB gratuit\n",
        "- **FaunaDB** : Base multi-modèle gratuite\n",
        "- **Hasura Cloud** : GraphQL + PostgreSQL"
      ]
    }
  ],
  "metadata": {
    "colab": {
      "provenance": []
    },
    "kernelspec": {
      "display_name": ".venv (3.12.3)",
      "language": "python",
      "name": "python3"
    },
    "language_info": {
      "codemirror_mode": {
        "name": "ipython",
        "version": 3
      },
      "file_extension": ".py",
      "mimetype": "text/x-python",
      "name": "python",
      "nbconvert_exporter": "python",
      "pygments_lexer": "ipython3",
      "version": "3.12.3"
    }
  },
  "nbformat": 4,
  "nbformat_minor": 0
}
