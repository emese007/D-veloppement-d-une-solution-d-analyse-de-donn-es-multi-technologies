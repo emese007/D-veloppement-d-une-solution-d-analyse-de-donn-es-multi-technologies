{
  "cells": [
    {
      "cell_type": "markdown",
      "metadata": {
        "id": "I43NxonzOSDg"
      },
      "source": [
        "# Notebook 2 - SQL avec vraies bases de données\n",
        "## Analyse e-commerce avec PostgreSQL en ligne\n",
        "\n"
      ]
    },
    {
      "cell_type": "markdown",
      "metadata": {
        "id": "JItQV6o4Ojrm"
      },
      "source": [
        "\n",
        "### 🎯 Objectifs pédagogiques\n",
        "- Connecter Python à une vraie base de données PostgreSQL\n",
        "- Écrire des requêtes SQL complexes sur des données réelles\n",
        "- Implémenter des analyses RFM avec SQL\n",
        "- Intégrer SQL et pandas pour des analyses avancées\n",
        "- Gérer les connexions et la sécurité\n",
        "\n",
        "### 🛍️ Contexte du projet\n",
        "Vous analysez les données d'un vrai dataset e-commerce (Brazilian E-Commerce Public Dataset) hébergé sur une base PostgreSQL.\n",
        "\n",
        "Objectif : créer une segmentation clientèle pour optimiser les campagnes marketing.\n"
      ]
    },
    {
      "cell_type": "markdown",
      "metadata": {
        "id": "K79TBMVvOuoj"
      },
      "source": [
        "## Partie 1 : Connexion à la base de données réelle"
      ]
    },
    {
      "cell_type": "markdown",
      "metadata": {
        "id": "mq7n18iwPBPe"
      },
      "source": [
        "### 🔧 Installation et configuration\n",
        "\n",
        "\n",
        "# Installation des dépendances\n",
        "\n",
        "\n",
        "```\n",
        "pip install psycopg2-binary sqlalchemy pandas python-dotenv\n",
        "```\n",
        "\n",
        "\n"
      ]
    },
    {
      "cell_type": "code",
      "execution_count": 1,
      "metadata": {
        "id": "_NuY2FHuOhu3"
      },
      "outputs": [],
      "source": [
        "import psycopg2\n",
        "import pandas as pd\n",
        "import numpy as np\n",
        "from sqlalchemy import create_engine\n",
        "import matplotlib.pyplot as plt\n",
        "import seaborn as sns\n",
        "from datetime import datetime, timedelta\n",
        "\n",
        "import os\n",
        "from dotenv import load_dotenv\n",
        "\n",
        "from sqlalchemy import create_engine, text"
      ]
    },
    {
      "cell_type": "markdown",
      "metadata": {
        "id": "QEbORVz5PXMa"
      },
      "source": [
        "### 🌐 Base de données PostgreSQL gratuite (ElephantSQL)\n",
        "\n",
        "**Option 1 : ElephantSQL (20MB gratuit)**\n",
        "1. Créez un compte sur [elephantsql.com](https://www.elephantsql.com/)\n",
        "2. Créez une instance \"Tiny Turtle\" (gratuite)\n",
        "3. Récupérez vos credentials\n",
        "\n",
        "**Option 2 : Supabase (500MB gratuit)**\n",
        "1. Créez un compte sur [supabase.com](https://supabase.com/)\n",
        "2. Créez un nouveau projet\n",
        "3. Récupérez l'URL de connexion PostgreSQL"
      ]
    },
    {
      "cell_type": "code",
      "execution_count": 2,
      "metadata": {
        "id": "ytLvCF3fQxRJ"
      },
      "outputs": [
        {
          "name": "stdout",
          "output_type": "stream",
          "text": [
            "                                             version\n",
            "0  PostgreSQL 17.4 on aarch64-unknown-linux-gnu, ...\n"
          ]
        },
        {
          "data": {
            "text/plain": [
              "True"
            ]
          },
          "execution_count": 2,
          "metadata": {},
          "output_type": "execute_result"
        }
      ],
      "source": [
        "# Configuration de connexion (à adapter selon votre provider)\n",
        "DATABASE_CONFIG = {\n",
        "    'host': 'aws-0-eu-west-3.pooler.supabase.com',  # Ou votre host Supabase\n",
        "    'database': os.getenv(\"DATABASE\"),\n",
        "    'user': os.getenv(\"USER_postgres\"),\n",
        "    'password': os.getenv(\"PASSWORD\"),\n",
        "    'port': os.getenv(\"PORT\"),\n",
        "}\n",
        "\n",
        "# Création de l'engine SQLAlchemy\n",
        "engine = create_engine(\n",
        "    f\"postgresql://{DATABASE_CONFIG['user']}:{DATABASE_CONFIG['password']}@\"\n",
        "    f\"{DATABASE_CONFIG['host']}:{DATABASE_CONFIG['port']}/{DATABASE_CONFIG['database']}\"\n",
        ")\n",
        "\n",
        "# Test de connexion\n",
        "def test_connection():\n",
        "    \"\"\"\n",
        "    Testez votre connexion à la base\n",
        "\n",
        "    Étapes :\n",
        "    1. Utilisez pd.read_sql() pour exécuter \"SELECT version()\"\n",
        "    2. Affichez la version PostgreSQL\n",
        "    3. Gérez les erreurs de connexion\n",
        "    \"\"\"\n",
        "    try:\n",
        "        # Votre code ici\n",
        "        version = pd.read_sql(\"SELECT version();\", engine)\n",
        "        print(version)\n",
        "        pass\n",
        "    except Exception as e:\n",
        "        print(f\"Erreur de connexion : {e}\")\n",
        "        return False\n",
        "    return True\n",
        "\n",
        "test_connection()"
      ]
    },
    {
      "cell_type": "markdown",
      "metadata": {
        "id": "uXfOgAxGQ3b5"
      },
      "source": [
        "\n",
        "## Partie 2 : Import du dataset e-commerce\n",
        "\n",
        "### 📊 Dataset Brazilian E-Commerce\n",
        "Nous utilisons le célèbre dataset Olist (100k commandes réelles).\n",
        "\n",
        "**Tables à créer :**\n",
        "1. **customers** : customer_id, customer_city, customer_state\n",
        "2. **orders** : order_id, customer_id, order_status, order_date, order_delivered_date\n",
        "3. **order_items** : order_id, product_id, seller_id, price, freight_value\n",
        "4. **products** : product_id, product_category, product_weight_g\n",
        "5. **sellers** : seller_id, seller_city, seller_state"
      ]
    },
    {
      "cell_type": "code",
      "execution_count": 3,
      "metadata": {
        "id": "2_uVipWkQ_W8"
      },
      "outputs": [],
      "source": [
        "### 📥 Import des données via API\n",
        "\n",
        "import requests\n",
        "import zipfile\n",
        "import io\n",
        "import pandas as pd\n",
        "\n",
        "def download_olist_dataset():\n",
        "\n",
        "    \"\"\"\n",
        "    Télécharge le dataset Olist depuis Kaggle API\n",
        "\n",
        "    Alternative : Utilisez l'API publique de l'IBGE (Institut brésilien)\n",
        "    pour des données e-commerce synthétiques mais réalistes\n",
        "    \"\"\"\n",
        "\n",
        "    # URL des données publiques brésiliennes\n",
        "    IBGE_API = \"https://www.kaggle.com/datasets/olistbr/brazilian-ecommerce\"\n",
        "\n",
        "    # Récupération des données de villes (pour la géolocalisation)\n",
        "    cities_url = f\"{IBGE_API}localidades/municipios\"\n",
        "\n",
        "    try:\n",
        "        response = requests.get(cities_url)\n",
        "        cities_data = response.json()\n",
        "\n",
        "        # Convertir en DataFrame\n",
        "        cities_df = pd.DataFrame(cities_data)\n",
        "\n",
        "        # Votre code pour nettoyer et structurer\n",
        "        # Créez des données e-commerce réalistes basées sur ces villes\n",
        "\n",
        "        return cities_df\n",
        "    except Exception as e:\n",
        "        print(f\"Erreur API IBGE : {e}\")\n",
        "        return None\n",
        "\n",
        "# Génération de données e-commerce réalistes\n",
        "def generate_ecommerce_data(cities_df, n_customers=10000):\n",
        "    \"\"\"\n",
        "    Génère des données e-commerce réalistes\n",
        "\n",
        "    Étapes guidées :\n",
        "    1. Sélectionnez 50 villes brésiliennes aléatoirement\n",
        "    2. Créez des clients avec distribution réaliste\n",
        "    3. Générez des commandes avec saisonnalité\n",
        "    4. Ajoutez des produits avec catégories cohérentes\n",
        "    5. Calculez des prix et frais de port basés sur la distance\n",
        "    \"\"\"\n",
        "    pass"
      ]
    },
    {
      "cell_type": "markdown",
      "metadata": {},
      "source": [
        "1. customers : customer_id, customer_city, customer_state\n",
        "2. orders : order_id, customer_id, order_status, order_date, order_delivered_date\n",
        "3. order_items : order_id, product_id, seller_id, price, freight_value\n",
        "4. products : product_id, product_category, product_weight_g\n",
        "5. sellers : seller_id, seller_city, seller_state"
      ]
    },
    {
      "cell_type": "code",
      "execution_count": 4,
      "metadata": {},
      "outputs": [
        {
          "name": "stdout",
          "output_type": "stream",
          "text": [
            "                        customer_id          customer_city customer_state\n",
            "0  06b8999e2fba1a1fbc88172c00ba8bc7                 franca             SP\n",
            "1  18955e83d337fd6b2def6b18a428ac77  sao bernardo do campo             SP\n",
            "2  4e7b3e00288586ebd08712fdd0374a03              sao paulo             SP\n",
            "3  b2b6027bc5c5109e529d4dc6358b12c3        mogi das cruzes             SP\n",
            "4  4f2d8ab171c80ec8364f7c12e35b23ad               campinas             SP\n"
          ]
        }
      ],
      "source": [
        "customers_clean = (\n",
        "    pd.read_csv(\"data/olist_customers_dataset.csv\")\n",
        "    .dropna(subset=['customer_id', 'customer_city', 'customer_state'])\n",
        "    [['customer_id', 'customer_city', 'customer_state']]\n",
        "    .drop_duplicates()\n",
        ")\n",
        "\n",
        "customers_clean['customer_id'] = customers_clean['customer_id'].astype(str)\n",
        "\n",
        "print(customers_clean.head())"
      ]
    },
    {
      "cell_type": "code",
      "execution_count": 5,
      "metadata": {},
      "outputs": [],
      "source": [
        "orders_clean = (\n",
        "    pd.read_csv(\"data/olist_orders_dataset.csv\")\n",
        "    .dropna(subset=['order_id', 'customer_id', 'order_purchase_timestamp', 'order_delivered_customer_date'])\n",
        "    [['order_id', 'customer_id', 'order_status', 'order_purchase_timestamp', 'order_delivered_customer_date']]\n",
        "    .rename(columns={\n",
        "        'order_purchase_timestamp': 'order_date',\n",
        "        'order_delivered_customer_date': 'order_delivered_date'\n",
        "    })\n",
        "    .drop_duplicates()\n",
        ")\n",
        "\n",
        "# Convert date columns\n",
        "orders_clean['order_date'] = pd.to_datetime(orders_clean['order_date'])\n",
        "orders_clean['order_delivered_date'] = pd.to_datetime(orders_clean['order_delivered_date'])"
      ]
    },
    {
      "cell_type": "code",
      "execution_count": 6,
      "metadata": {},
      "outputs": [
        {
          "name": "stdout",
          "output_type": "stream",
          "text": [
            "                           order_id                        product_id  \\\n",
            "0  00010242fe8c5a6d1ba2dd792cb16214  4244733e06e7ecb4970a6e2683c13e61   \n",
            "1  00018f77f2f0320c557190d7a144bdd3  e5f2d52b802189ee658865ca93d83a8f   \n",
            "2  000229ec398224ef6ca0657da4fc703e  c777355d18b72b67abbeef9df44fd0fd   \n",
            "3  00024acbcdf0a6daa1e931b038114c75  7634da152a4610f1595efa32f14722fc   \n",
            "4  00042b26cf59d7ce69dfabb4e55b4fd9  ac6c3623068f30de03045865e4e10089   \n",
            "\n",
            "                          seller_id   price  freight_value  \n",
            "0  48436dade18ac8b2bce089ec2a041202   58.90          13.29  \n",
            "1  dd7ddc04e1b6c2c614352b383efe2d36  239.90          19.93  \n",
            "2  5b51032eddd242adc84c38acab88f23d  199.00          17.87  \n",
            "3  9d7a1d34a5052409006425275ba1c2b4   12.99          12.79  \n",
            "4  df560393f3a51e74553ab94004ba5c87  199.90          18.14  \n"
          ]
        }
      ],
      "source": [
        "df_order_items = pd.read_csv(\"data/olist_order_items_dataset.csv\")\n",
        "\n",
        "order_items_clean = df_order_items[[\"order_id\", \"product_id\", \"seller_id\", \"price\", \"freight_value\"]]\n",
        "\n",
        "order_items_clean = order_items_clean.dropna(subset=[\"order_id\", \"product_id\", \"seller_id\", \"price\", \"freight_value\"])\n",
        "\n",
        "order_items_clean = order_items_clean.drop_duplicates(subset=[\"order_id\", \"product_id\", \"seller_id\"])\n",
        "\n",
        "print(order_items_clean.head())"
      ]
    },
    {
      "cell_type": "code",
      "execution_count": 7,
      "metadata": {},
      "outputs": [
        {
          "name": "stdout",
          "output_type": "stream",
          "text": [
            "                         product_id       product_category  product_weight_g\n",
            "0  1e9e8ef04dbcff4541ed26657ea517e5             perfumaria             225.0\n",
            "1  3aa071139cb16b67ca9e5dea641aaa2f                  artes            1000.0\n",
            "2  96bd76ec8810374ed1b65e291975717f          esporte_lazer             154.0\n",
            "3  cef67bcfe19066a932b7673e239eb23d                  bebes             371.0\n",
            "4  9dc1a7de274444849c219cff195d0b71  utilidades_domesticas             625.0\n"
          ]
        }
      ],
      "source": [
        "products_clean = (\n",
        "    pd.read_csv(\"data/olist_products_dataset.csv\")\n",
        "    .dropna(subset=['product_id', 'product_category_name', 'product_weight_g'])\n",
        "    [['product_id', 'product_category_name', 'product_weight_g']]\n",
        "    .rename(columns={'product_category_name': 'product_category'})\n",
        "    .drop_duplicates()\n",
        ")\n",
        "\n",
        "print(products_clean.head())"
      ]
    },
    {
      "cell_type": "code",
      "execution_count": 8,
      "metadata": {},
      "outputs": [
        {
          "name": "stdout",
          "output_type": "stream",
          "text": [
            "                           order_id                        product_id  \\\n",
            "0  00010242fe8c5a6d1ba2dd792cb16214  4244733e06e7ecb4970a6e2683c13e61   \n",
            "1  00018f77f2f0320c557190d7a144bdd3  e5f2d52b802189ee658865ca93d83a8f   \n",
            "2  000229ec398224ef6ca0657da4fc703e  c777355d18b72b67abbeef9df44fd0fd   \n",
            "3  00024acbcdf0a6daa1e931b038114c75  7634da152a4610f1595efa32f14722fc   \n",
            "4  00042b26cf59d7ce69dfabb4e55b4fd9  ac6c3623068f30de03045865e4e10089   \n",
            "\n",
            "                          seller_id   price  freight_value  \n",
            "0  48436dade18ac8b2bce089ec2a041202   58.90          13.29  \n",
            "1  dd7ddc04e1b6c2c614352b383efe2d36  239.90          19.93  \n",
            "2  5b51032eddd242adc84c38acab88f23d  199.00          17.87  \n",
            "3  9d7a1d34a5052409006425275ba1c2b4   12.99          12.79  \n",
            "4  df560393f3a51e74553ab94004ba5c87  199.90          18.14  \n"
          ]
        }
      ],
      "source": [
        "sellers_clean = (\n",
        "    pd.read_csv(\"data/olist_sellers_dataset.csv\")\n",
        "    .dropna(subset=['seller_id', 'seller_city', 'seller_state'])\n",
        "    [['seller_id', 'seller_city', 'seller_state']]\n",
        "    .drop_duplicates()\n",
        ")\n",
        "\n",
        "print(order_items_clean.head())\n"
      ]
    },
    {
      "cell_type": "code",
      "execution_count": 9,
      "metadata": {},
      "outputs": [],
      "source": [
        "def create_tables(engine):\n",
        "    from sqlalchemy import text\n",
        "\n",
        "    create_customers = text(\"\"\"\n",
        "    CREATE TABLE IF NOT EXISTS customers (\n",
        "        customer_id VARCHAR PRIMARY KEY,\n",
        "        customer_city VARCHAR(100),\n",
        "        customer_state CHAR(2)\n",
        "    );\n",
        "    \"\"\")\n",
        "\n",
        "    create_sellers = text(\"\"\"\n",
        "    CREATE TABLE IF NOT EXISTS sellers (\n",
        "        seller_id VARCHAR PRIMARY KEY,\n",
        "        seller_city VARCHAR(100),\n",
        "        seller_state CHAR(2)\n",
        "    );\n",
        "    \"\"\")\n",
        "\n",
        "    create_products = text(\"\"\"\n",
        "    CREATE TABLE IF NOT EXISTS products (\n",
        "        product_id VARCHAR PRIMARY KEY,\n",
        "        product_category VARCHAR,\n",
        "        product_weight_g NUMERIC\n",
        "    );\n",
        "    \"\"\")\n",
        "\n",
        "    create_orders = text(\"\"\"\n",
        "    CREATE TABLE IF NOT EXISTS orders (\n",
        "        order_id VARCHAR PRIMARY KEY,\n",
        "        customer_id VARCHAR,\n",
        "        order_status VARCHAR(50),\n",
        "        order_date TIMESTAMP,\n",
        "        order_delivered_date TIMESTAMP,\n",
        "        FOREIGN KEY (customer_id) REFERENCES customers(customer_id)\n",
        "    );\n",
        "    \"\"\")\n",
        "\n",
        "    create_order_items = text(\"\"\"\n",
        "    CREATE TABLE IF NOT EXISTS order_items (\n",
        "        order_id VARCHAR,\n",
        "        product_id VARCHAR,\n",
        "        seller_id VARCHAR,\n",
        "        price NUMERIC,\n",
        "        freight_value NUMERIC,\n",
        "        PRIMARY KEY (order_id, product_id, seller_id),\n",
        "        FOREIGN KEY (order_id) REFERENCES orders(order_id),\n",
        "        FOREIGN KEY (product_id) REFERENCES products(product_id),\n",
        "        FOREIGN KEY (seller_id) REFERENCES sellers(seller_id)\n",
        "    );\n",
        "    \"\"\")\n",
        "\n",
        "    with engine.connect() as conn:\n",
        "        conn.execute(create_customers)\n",
        "        conn.execute(create_sellers)\n",
        "        conn.execute(create_products)\n",
        "        conn.execute(create_orders)\n",
        "        conn.execute(create_order_items)\n",
        "        conn.commit()"
      ]
    },
    {
      "cell_type": "code",
      "execution_count": 10,
      "metadata": {},
      "outputs": [],
      "source": [
        "create_tables(engine)"
      ]
    },
    {
      "cell_type": "markdown",
      "metadata": {},
      "source": [
        "query = \"\"\"\n",
        "SELECT table_name\n",
        "FROM information_schema.tables\n",
        "WHERE table_schema = 'public';\n",
        "\"\"\"\n",
        "\n",
        "# Execute query\n",
        "with engine.connect() as conn:\n",
        "    tables_df = pd.read_sql(query, conn)\n",
        "\n",
        "print(tables_df)"
      ]
    },
    {
      "cell_type": "code",
      "execution_count": 11,
      "metadata": {},
      "outputs": [
        {
          "name": "stdout",
          "output_type": "stream",
          "text": [
            "    table_name\n",
            "0    customers\n",
            "1       orders\n",
            "2  order_items\n",
            "3     products\n",
            "4      sellers\n"
          ]
        }
      ],
      "source": [
        "query = \"\"\"\n",
        "SELECT table_name\n",
        "FROM information_schema.tables\n",
        "WHERE table_schema = 'public';\n",
        "\"\"\"\n",
        "\n",
        "# Execute query\n",
        "with engine.connect() as conn:\n",
        "    tables_df = pd.read_sql(query, conn)\n",
        "\n",
        "print(tables_df)"
      ]
    },
    {
      "cell_type": "code",
      "execution_count": 12,
      "metadata": {},
      "outputs": [
        {
          "name": "stdout",
          "output_type": "stream",
          "text": [
            "customers : 0 lignes\n",
            "orders : 0 lignes\n",
            "products : 0 lignes\n",
            "sellers : 0 lignes\n",
            "order_items : 0 lignes\n"
          ]
        }
      ],
      "source": [
        "tables = [\"customers\", \"orders\", \"products\", \"sellers\", \"order_items\"]\n",
        "\n",
        "# Exécution de la requête pour chaque table\n",
        "with engine.connect() as conn:\n",
        "    for table in tables:\n",
        "        result = conn.execute(text(f\"SELECT COUNT(*) FROM {table}\"))\n",
        "        count = result.scalar()\n",
        "        print(f\"{table} : {count} lignes\")\n"
      ]
    },
    {
      "cell_type": "code",
      "execution_count": 13,
      "metadata": {},
      "outputs": [
        {
          "name": "stdout",
          "output_type": "stream",
          "text": [
            "Donnees inseres dans customers\n"
          ]
        }
      ],
      "source": [
        "customers_clean.to_sql(\"customers\", engine, if_exists=\"append\", index=False)\n",
        "print(\"Donnees inseres dans customers\")"
      ]
    },
    {
      "cell_type": "code",
      "execution_count": 14,
      "metadata": {},
      "outputs": [
        {
          "data": {
            "text/plain": [
              "95"
            ]
          },
          "execution_count": 14,
          "metadata": {},
          "output_type": "execute_result"
        }
      ],
      "source": [
        "sellers_clean.to_sql(\"sellers\", engine, if_exists=\"append\", index=False)\n",
        "\n"
      ]
    },
    {
      "cell_type": "code",
      "execution_count": 15,
      "metadata": {},
      "outputs": [
        {
          "data": {
            "text/plain": [
              "340"
            ]
          },
          "execution_count": 15,
          "metadata": {},
          "output_type": "execute_result"
        }
      ],
      "source": [
        "products_clean.to_sql(\"products\", engine, if_exists=\"append\", index=False)\n"
      ]
    },
    {
      "cell_type": "code",
      "execution_count": 16,
      "metadata": {},
      "outputs": [
        {
          "name": "stdout",
          "output_type": "stream",
          "text": [
            "Donnees inseres dans orders_clean\n"
          ]
        }
      ],
      "source": [
        "orders_clean.to_sql(\"orders\", engine, if_exists=\"append\", index=False)\n",
        "print(\"Donnees inseres dans orders_clean\")\n"
      ]
    },
    {
      "cell_type": "code",
      "execution_count": 18,
      "metadata": {},
      "outputs": [
        {
          "ename": "IntegrityError",
          "evalue": "(psycopg2.errors.ForeignKeyViolation) insert or update on table \"order_items\" violates foreign key constraint \"order_items_order_id_fkey\"\nDETAIL:  Key (order_id)=(002f19a65a2ddd70a090297872e6d64e) is not present in table \"orders\".\n\n[SQL: INSERT INTO order_items (order_id, product_id, seller_id, price, freight_value) VALUES (%(order_id__0)s, %(product_id__0)s, %(seller_id__0)s, %(price__0)s, %(freight_value__0)s), (%(order_id__1)s, %(product_id__1)s, %(seller_id__1)s, %(price__1)s, %( ... 101185 characters truncated ... (%(order_id__999)s, %(product_id__999)s, %(seller_id__999)s, %(price__999)s, %(freight_value__999)s)]\n[parameters: {'freight_value__0': 13.29, 'order_id__0': '00010242fe8c5a6d1ba2dd792cb16214', 'seller_id__0': '48436dade18ac8b2bce089ec2a041202', 'product_id__0': '4244733e06e7ecb4970a6e2683c13e61', 'price__0': 58.9, 'freight_value__1': 19.93, 'order_id__1': '00018f77f2f0320c557190d7a144bdd3', 'seller_id__1': 'dd7ddc04e1b6c2c614352b383efe2d36', 'product_id__1': 'e5f2d52b802189ee658865ca93d83a8f', 'price__1': 239.9, 'freight_value__2': 17.87, 'order_id__2': '000229ec398224ef6ca0657da4fc703e', 'seller_id__2': '5b51032eddd242adc84c38acab88f23d', 'product_id__2': 'c777355d18b72b67abbeef9df44fd0fd', 'price__2': 199.0, 'freight_value__3': 12.79, 'order_id__3': '00024acbcdf0a6daa1e931b038114c75', 'seller_id__3': '9d7a1d34a5052409006425275ba1c2b4', 'product_id__3': '7634da152a4610f1595efa32f14722fc', 'price__3': 12.99, 'freight_value__4': 18.14, 'order_id__4': '00042b26cf59d7ce69dfabb4e55b4fd9', 'seller_id__4': 'df560393f3a51e74553ab94004ba5c87', 'product_id__4': 'ac6c3623068f30de03045865e4e10089', 'price__4': 199.9, 'freight_value__5': 12.69, 'order_id__5': '00048cc3ae777c65dbb7d2a0634bc1ea', 'seller_id__5': '6426d21aca402a131fc0a5d0960a3c90', 'product_id__5': 'ef92defde845ab8450f9d70c526ef70f', 'price__5': 21.9, 'freight_value__6': 11.85, 'order_id__6': '00054e8431b9d7675808bcb819fb4a32', 'seller_id__6': '7040e82f899a04d1b434b795a43b4617', 'product_id__6': '8d4f2bb7e93e6710a28f34fa83ee7d28', 'price__6': 19.9, 'freight_value__7': 70.75, 'order_id__7': '000576fe39319847cbb9d288c5617fa6', 'seller_id__7': '5996cddab893a4652a15592fb58ab8db', 'product_id__7': '557d850972a7d6f792fd18ae1400d9b6', 'price__7': 810.0, 'freight_value__8': 11.65, 'order_id__8': '0005a1a1728c9d785b8e2b08b904576c', 'seller_id__8': 'a416b6a846a11724393025641d4edd5e', 'product_id__8': '310ae3c140ff94b03219ad0adc3c778f', 'price__8': 145.95, 'freight_value__9': 11.4, 'order_id__9': '0005f50442cb953dcd1d21e1fb923495', 'seller_id__9': 'ba143b05f0110f0dc71ad71b4466ce92', 'product_id__9': '4535b0e1091c278dfd193e5a1d63b39f', 'price__9': 53.99 ... 4900 parameters truncated ... 'freight_value__990': 7.78, 'order_id__990': '0286c83491d80e29a5f16c150abb76b2', 'seller_id__990': '8a32e327fe2c1b3511609d81aaf9f042', 'product_id__990': 'e19ddcc85537b41f22116c8d5425ef46', 'price__990': 29.99, 'freight_value__991': 16.18, 'order_id__991': '0286dd0f954cb641dc3eb5db5e4467e6', 'seller_id__991': '9616352088dcf83a7c06637f4ebf1c80', 'product_id__991': 'a8856d651600289b162f857e26838480', 'price__991': 59.9, 'freight_value__992': 22.73, 'order_id__992': '0286e258217733541e80588e29c208c1', 'seller_id__992': 'cb3dd9ce66268c7a3ca7241ac70ab58c', 'product_id__992': '3c4223262d31fa35043380da246fb0fa', 'price__992': 58.9, 'freight_value__993': 17.84, 'order_id__993': '02870408b4c4492b036a48140f2092ed', 'seller_id__993': '7142540dd4c91e2237acb7e911c4eba2', 'product_id__993': 'c977ac034427790e883ab55f4baa68c2', 'price__993': 84.9, 'freight_value__994': 8.65, 'order_id__994': '02875e2e1d01d7a1533215fb97510b06', 'seller_id__994': 'aba1721a889e04decc910aa13b768ef4', 'product_id__994': 'fd1446e03cb63518fdc2d2e91f6208b2', 'price__994': 199.0, 'freight_value__995': 15.25, 'order_id__995': '02881d166b44a823fd6947e715dfa5e4', 'seller_id__995': '6f892e20a171e98efe17fdb971ff319b', 'product_id__995': '4a300735bc293723103db0d0c1bc1585', 'price__995': 70.9, 'freight_value__996': 19.64, 'order_id__996': '028aa70283170bf3cbfdce2c1b751cfa', 'seller_id__996': 'dbd66278cbfe1aa1000f90a217ca4695', 'product_id__996': '1531b09bff3fb016e5f0b4435b643672', 'price__996': 64.5, 'freight_value__997': 17.63, 'order_id__997': '028aa7c930356788f861ed1b7f984819', 'seller_id__997': 'de722cd6dad950a92b7d4f82673f8833', 'product_id__997': '909b87db6cb3a7ab26bd03cc59860136', 'price__997': 39.9, 'freight_value__998': 18.02, 'order_id__998': '028ad19261e3ad3406ca689348755456', 'seller_id__998': '5c243662ce92d84573bfaff24c3e3700', 'product_id__998': '9453bde60c4ee52155c963641736cfc5', 'price__998': 467.0, 'freight_value__999': 37.12, 'order_id__999': '028b18bcd128b49e2982741f83b78e77', 'seller_id__999': '955fee9216a65b617aa5c0531780ce60', 'product_id__999': 'c6bf4cdc2fc9ca1189d18f026d95af07', 'price__999': 260.0}]\n(Background on this error at: https://sqlalche.me/e/20/gkpj)",
          "output_type": "error",
          "traceback": [
            "\u001b[31m---------------------------------------------------------------------------\u001b[39m",
            "\u001b[31mForeignKeyViolation\u001b[39m                       Traceback (most recent call last)",
            "\u001b[36mFile \u001b[39m\u001b[32m~/Briefs/D-veloppement-d-une-solution-d-analyse-de-donn-es-multi-technologies/.venv/lib/python3.12/site-packages/sqlalchemy/engine/base.py:2114\u001b[39m, in \u001b[36mConnection._exec_insertmany_context\u001b[39m\u001b[34m(self, dialect, context)\u001b[39m\n\u001b[32m   2113\u001b[39m     \u001b[38;5;28;01melse\u001b[39;00m:\n\u001b[32m-> \u001b[39m\u001b[32m2114\u001b[39m         \u001b[43mdialect\u001b[49m\u001b[43m.\u001b[49m\u001b[43mdo_execute\u001b[49m\u001b[43m(\u001b[49m\n\u001b[32m   2115\u001b[39m \u001b[43m            \u001b[49m\u001b[43mcursor\u001b[49m\u001b[43m,\u001b[49m\n\u001b[32m   2116\u001b[39m \u001b[43m            \u001b[49m\u001b[43msub_stmt\u001b[49m\u001b[43m,\u001b[49m\n\u001b[32m   2117\u001b[39m \u001b[43m            \u001b[49m\u001b[43msub_params\u001b[49m\u001b[43m,\u001b[49m\n\u001b[32m   2118\u001b[39m \u001b[43m            \u001b[49m\u001b[43mcontext\u001b[49m\u001b[43m,\u001b[49m\n\u001b[32m   2119\u001b[39m \u001b[43m        \u001b[49m\u001b[43m)\u001b[49m\n\u001b[32m   2121\u001b[39m \u001b[38;5;28;01mexcept\u001b[39;00m \u001b[38;5;167;01mBaseException\u001b[39;00m \u001b[38;5;28;01mas\u001b[39;00m e:\n",
            "\u001b[36mFile \u001b[39m\u001b[32m~/Briefs/D-veloppement-d-une-solution-d-analyse-de-donn-es-multi-technologies/.venv/lib/python3.12/site-packages/sqlalchemy/engine/default.py:943\u001b[39m, in \u001b[36mDefaultDialect.do_execute\u001b[39m\u001b[34m(self, cursor, statement, parameters, context)\u001b[39m\n\u001b[32m    942\u001b[39m \u001b[38;5;28;01mdef\u001b[39;00m\u001b[38;5;250m \u001b[39m\u001b[34mdo_execute\u001b[39m(\u001b[38;5;28mself\u001b[39m, cursor, statement, parameters, context=\u001b[38;5;28;01mNone\u001b[39;00m):\n\u001b[32m--> \u001b[39m\u001b[32m943\u001b[39m     \u001b[43mcursor\u001b[49m\u001b[43m.\u001b[49m\u001b[43mexecute\u001b[49m\u001b[43m(\u001b[49m\u001b[43mstatement\u001b[49m\u001b[43m,\u001b[49m\u001b[43m \u001b[49m\u001b[43mparameters\u001b[49m\u001b[43m)\u001b[49m\n",
            "\u001b[31mForeignKeyViolation\u001b[39m: insert or update on table \"order_items\" violates foreign key constraint \"order_items_order_id_fkey\"\nDETAIL:  Key (order_id)=(002f19a65a2ddd70a090297872e6d64e) is not present in table \"orders\".\n",
            "\nThe above exception was the direct cause of the following exception:\n",
            "\u001b[31mIntegrityError\u001b[39m                            Traceback (most recent call last)",
            "\u001b[36mCell\u001b[39m\u001b[36m \u001b[39m\u001b[32mIn[18]\u001b[39m\u001b[32m, line 1\u001b[39m\n\u001b[32m----> \u001b[39m\u001b[32m1\u001b[39m \u001b[43morder_items_clean\u001b[49m\u001b[43m.\u001b[49m\u001b[43mto_sql\u001b[49m\u001b[43m(\u001b[49m\u001b[33;43m\"\u001b[39;49m\u001b[33;43morder_items\u001b[39;49m\u001b[33;43m\"\u001b[39;49m\u001b[43m,\u001b[49m\u001b[43m \u001b[49m\u001b[43mengine\u001b[49m\u001b[43m,\u001b[49m\u001b[43m \u001b[49m\u001b[43mif_exists\u001b[49m\u001b[43m=\u001b[49m\u001b[33;43m\"\u001b[39;49m\u001b[33;43mappend\u001b[39;49m\u001b[33;43m\"\u001b[39;49m\u001b[43m,\u001b[49m\u001b[43m \u001b[49m\u001b[43mindex\u001b[49m\u001b[43m=\u001b[49m\u001b[38;5;28;43;01mFalse\u001b[39;49;00m\u001b[43m)\u001b[49m\n",
            "\u001b[36mFile \u001b[39m\u001b[32m~/Briefs/D-veloppement-d-une-solution-d-analyse-de-donn-es-multi-technologies/.venv/lib/python3.12/site-packages/pandas/util/_decorators.py:333\u001b[39m, in \u001b[36mdeprecate_nonkeyword_arguments.<locals>.decorate.<locals>.wrapper\u001b[39m\u001b[34m(*args, **kwargs)\u001b[39m\n\u001b[32m    327\u001b[39m \u001b[38;5;28;01mif\u001b[39;00m \u001b[38;5;28mlen\u001b[39m(args) > num_allow_args:\n\u001b[32m    328\u001b[39m     warnings.warn(\n\u001b[32m    329\u001b[39m         msg.format(arguments=_format_argument_list(allow_args)),\n\u001b[32m    330\u001b[39m         \u001b[38;5;167;01mFutureWarning\u001b[39;00m,\n\u001b[32m    331\u001b[39m         stacklevel=find_stack_level(),\n\u001b[32m    332\u001b[39m     )\n\u001b[32m--> \u001b[39m\u001b[32m333\u001b[39m \u001b[38;5;28;01mreturn\u001b[39;00m \u001b[43mfunc\u001b[49m\u001b[43m(\u001b[49m\u001b[43m*\u001b[49m\u001b[43margs\u001b[49m\u001b[43m,\u001b[49m\u001b[43m \u001b[49m\u001b[43m*\u001b[49m\u001b[43m*\u001b[49m\u001b[43mkwargs\u001b[49m\u001b[43m)\u001b[49m\n",
            "\u001b[36mFile \u001b[39m\u001b[32m~/Briefs/D-veloppement-d-une-solution-d-analyse-de-donn-es-multi-technologies/.venv/lib/python3.12/site-packages/pandas/core/generic.py:3106\u001b[39m, in \u001b[36mNDFrame.to_sql\u001b[39m\u001b[34m(self, name, con, schema, if_exists, index, index_label, chunksize, dtype, method)\u001b[39m\n\u001b[32m   2908\u001b[39m \u001b[38;5;250m\u001b[39m\u001b[33;03m\"\"\"\u001b[39;00m\n\u001b[32m   2909\u001b[39m \u001b[33;03mWrite records stored in a DataFrame to a SQL database.\u001b[39;00m\n\u001b[32m   2910\u001b[39m \n\u001b[32m   (...)\u001b[39m\u001b[32m   3102\u001b[39m \u001b[33;03m[(1,), (None,), (2,)]\u001b[39;00m\n\u001b[32m   3103\u001b[39m \u001b[33;03m\"\"\"\u001b[39;00m  \u001b[38;5;66;03m# noqa: E501\u001b[39;00m\n\u001b[32m   3104\u001b[39m \u001b[38;5;28;01mfrom\u001b[39;00m\u001b[38;5;250m \u001b[39m\u001b[34;01mpandas\u001b[39;00m\u001b[34;01m.\u001b[39;00m\u001b[34;01mio\u001b[39;00m\u001b[38;5;250m \u001b[39m\u001b[38;5;28;01mimport\u001b[39;00m sql\n\u001b[32m-> \u001b[39m\u001b[32m3106\u001b[39m \u001b[38;5;28;01mreturn\u001b[39;00m \u001b[43msql\u001b[49m\u001b[43m.\u001b[49m\u001b[43mto_sql\u001b[49m\u001b[43m(\u001b[49m\n\u001b[32m   3107\u001b[39m \u001b[43m    \u001b[49m\u001b[38;5;28;43mself\u001b[39;49m\u001b[43m,\u001b[49m\n\u001b[32m   3108\u001b[39m \u001b[43m    \u001b[49m\u001b[43mname\u001b[49m\u001b[43m,\u001b[49m\n\u001b[32m   3109\u001b[39m \u001b[43m    \u001b[49m\u001b[43mcon\u001b[49m\u001b[43m,\u001b[49m\n\u001b[32m   3110\u001b[39m \u001b[43m    \u001b[49m\u001b[43mschema\u001b[49m\u001b[43m=\u001b[49m\u001b[43mschema\u001b[49m\u001b[43m,\u001b[49m\n\u001b[32m   3111\u001b[39m \u001b[43m    \u001b[49m\u001b[43mif_exists\u001b[49m\u001b[43m=\u001b[49m\u001b[43mif_exists\u001b[49m\u001b[43m,\u001b[49m\n\u001b[32m   3112\u001b[39m \u001b[43m    \u001b[49m\u001b[43mindex\u001b[49m\u001b[43m=\u001b[49m\u001b[43mindex\u001b[49m\u001b[43m,\u001b[49m\n\u001b[32m   3113\u001b[39m \u001b[43m    \u001b[49m\u001b[43mindex_label\u001b[49m\u001b[43m=\u001b[49m\u001b[43mindex_label\u001b[49m\u001b[43m,\u001b[49m\n\u001b[32m   3114\u001b[39m \u001b[43m    \u001b[49m\u001b[43mchunksize\u001b[49m\u001b[43m=\u001b[49m\u001b[43mchunksize\u001b[49m\u001b[43m,\u001b[49m\n\u001b[32m   3115\u001b[39m \u001b[43m    \u001b[49m\u001b[43mdtype\u001b[49m\u001b[43m=\u001b[49m\u001b[43mdtype\u001b[49m\u001b[43m,\u001b[49m\n\u001b[32m   3116\u001b[39m \u001b[43m    \u001b[49m\u001b[43mmethod\u001b[49m\u001b[43m=\u001b[49m\u001b[43mmethod\u001b[49m\u001b[43m,\u001b[49m\n\u001b[32m   3117\u001b[39m \u001b[43m\u001b[49m\u001b[43m)\u001b[49m\n",
            "\u001b[36mFile \u001b[39m\u001b[32m~/Briefs/D-veloppement-d-une-solution-d-analyse-de-donn-es-multi-technologies/.venv/lib/python3.12/site-packages/pandas/io/sql.py:844\u001b[39m, in \u001b[36mto_sql\u001b[39m\u001b[34m(frame, name, con, schema, if_exists, index, index_label, chunksize, dtype, method, engine, **engine_kwargs)\u001b[39m\n\u001b[32m    839\u001b[39m     \u001b[38;5;28;01mraise\u001b[39;00m \u001b[38;5;167;01mNotImplementedError\u001b[39;00m(\n\u001b[32m    840\u001b[39m         \u001b[33m\"\u001b[39m\u001b[33m'\u001b[39m\u001b[33mframe\u001b[39m\u001b[33m'\u001b[39m\u001b[33m argument should be either a Series or a DataFrame\u001b[39m\u001b[33m\"\u001b[39m\n\u001b[32m    841\u001b[39m     )\n\u001b[32m    843\u001b[39m \u001b[38;5;28;01mwith\u001b[39;00m pandasSQL_builder(con, schema=schema, need_transaction=\u001b[38;5;28;01mTrue\u001b[39;00m) \u001b[38;5;28;01mas\u001b[39;00m pandas_sql:\n\u001b[32m--> \u001b[39m\u001b[32m844\u001b[39m     \u001b[38;5;28;01mreturn\u001b[39;00m \u001b[43mpandas_sql\u001b[49m\u001b[43m.\u001b[49m\u001b[43mto_sql\u001b[49m\u001b[43m(\u001b[49m\n\u001b[32m    845\u001b[39m \u001b[43m        \u001b[49m\u001b[43mframe\u001b[49m\u001b[43m,\u001b[49m\n\u001b[32m    846\u001b[39m \u001b[43m        \u001b[49m\u001b[43mname\u001b[49m\u001b[43m,\u001b[49m\n\u001b[32m    847\u001b[39m \u001b[43m        \u001b[49m\u001b[43mif_exists\u001b[49m\u001b[43m=\u001b[49m\u001b[43mif_exists\u001b[49m\u001b[43m,\u001b[49m\n\u001b[32m    848\u001b[39m \u001b[43m        \u001b[49m\u001b[43mindex\u001b[49m\u001b[43m=\u001b[49m\u001b[43mindex\u001b[49m\u001b[43m,\u001b[49m\n\u001b[32m    849\u001b[39m \u001b[43m        \u001b[49m\u001b[43mindex_label\u001b[49m\u001b[43m=\u001b[49m\u001b[43mindex_label\u001b[49m\u001b[43m,\u001b[49m\n\u001b[32m    850\u001b[39m \u001b[43m        \u001b[49m\u001b[43mschema\u001b[49m\u001b[43m=\u001b[49m\u001b[43mschema\u001b[49m\u001b[43m,\u001b[49m\n\u001b[32m    851\u001b[39m \u001b[43m        \u001b[49m\u001b[43mchunksize\u001b[49m\u001b[43m=\u001b[49m\u001b[43mchunksize\u001b[49m\u001b[43m,\u001b[49m\n\u001b[32m    852\u001b[39m \u001b[43m        \u001b[49m\u001b[43mdtype\u001b[49m\u001b[43m=\u001b[49m\u001b[43mdtype\u001b[49m\u001b[43m,\u001b[49m\n\u001b[32m    853\u001b[39m \u001b[43m        \u001b[49m\u001b[43mmethod\u001b[49m\u001b[43m=\u001b[49m\u001b[43mmethod\u001b[49m\u001b[43m,\u001b[49m\n\u001b[32m    854\u001b[39m \u001b[43m        \u001b[49m\u001b[43mengine\u001b[49m\u001b[43m=\u001b[49m\u001b[43mengine\u001b[49m\u001b[43m,\u001b[49m\n\u001b[32m    855\u001b[39m \u001b[43m        \u001b[49m\u001b[43m*\u001b[49m\u001b[43m*\u001b[49m\u001b[43mengine_kwargs\u001b[49m\u001b[43m,\u001b[49m\n\u001b[32m    856\u001b[39m \u001b[43m    \u001b[49m\u001b[43m)\u001b[49m\n",
            "\u001b[36mFile \u001b[39m\u001b[32m~/Briefs/D-veloppement-d-une-solution-d-analyse-de-donn-es-multi-technologies/.venv/lib/python3.12/site-packages/pandas/io/sql.py:2030\u001b[39m, in \u001b[36mSQLDatabase.to_sql\u001b[39m\u001b[34m(self, frame, name, if_exists, index, index_label, schema, chunksize, dtype, method, engine, **engine_kwargs)\u001b[39m\n\u001b[32m   2018\u001b[39m sql_engine = get_engine(engine)\n\u001b[32m   2020\u001b[39m table = \u001b[38;5;28mself\u001b[39m.prep_table(\n\u001b[32m   2021\u001b[39m     frame=frame,\n\u001b[32m   2022\u001b[39m     name=name,\n\u001b[32m   (...)\u001b[39m\u001b[32m   2027\u001b[39m     dtype=dtype,\n\u001b[32m   2028\u001b[39m )\n\u001b[32m-> \u001b[39m\u001b[32m2030\u001b[39m total_inserted = \u001b[43msql_engine\u001b[49m\u001b[43m.\u001b[49m\u001b[43minsert_records\u001b[49m\u001b[43m(\u001b[49m\n\u001b[32m   2031\u001b[39m \u001b[43m    \u001b[49m\u001b[43mtable\u001b[49m\u001b[43m=\u001b[49m\u001b[43mtable\u001b[49m\u001b[43m,\u001b[49m\n\u001b[32m   2032\u001b[39m \u001b[43m    \u001b[49m\u001b[43mcon\u001b[49m\u001b[43m=\u001b[49m\u001b[38;5;28;43mself\u001b[39;49m\u001b[43m.\u001b[49m\u001b[43mcon\u001b[49m\u001b[43m,\u001b[49m\n\u001b[32m   2033\u001b[39m \u001b[43m    \u001b[49m\u001b[43mframe\u001b[49m\u001b[43m=\u001b[49m\u001b[43mframe\u001b[49m\u001b[43m,\u001b[49m\n\u001b[32m   2034\u001b[39m \u001b[43m    \u001b[49m\u001b[43mname\u001b[49m\u001b[43m=\u001b[49m\u001b[43mname\u001b[49m\u001b[43m,\u001b[49m\n\u001b[32m   2035\u001b[39m \u001b[43m    \u001b[49m\u001b[43mindex\u001b[49m\u001b[43m=\u001b[49m\u001b[43mindex\u001b[49m\u001b[43m,\u001b[49m\n\u001b[32m   2036\u001b[39m \u001b[43m    \u001b[49m\u001b[43mschema\u001b[49m\u001b[43m=\u001b[49m\u001b[43mschema\u001b[49m\u001b[43m,\u001b[49m\n\u001b[32m   2037\u001b[39m \u001b[43m    \u001b[49m\u001b[43mchunksize\u001b[49m\u001b[43m=\u001b[49m\u001b[43mchunksize\u001b[49m\u001b[43m,\u001b[49m\n\u001b[32m   2038\u001b[39m \u001b[43m    \u001b[49m\u001b[43mmethod\u001b[49m\u001b[43m=\u001b[49m\u001b[43mmethod\u001b[49m\u001b[43m,\u001b[49m\n\u001b[32m   2039\u001b[39m \u001b[43m    \u001b[49m\u001b[43m*\u001b[49m\u001b[43m*\u001b[49m\u001b[43mengine_kwargs\u001b[49m\u001b[43m,\u001b[49m\n\u001b[32m   2040\u001b[39m \u001b[43m\u001b[49m\u001b[43m)\u001b[49m\n\u001b[32m   2042\u001b[39m \u001b[38;5;28mself\u001b[39m.check_case_sensitive(name=name, schema=schema)\n\u001b[32m   2043\u001b[39m \u001b[38;5;28;01mreturn\u001b[39;00m total_inserted\n",
            "\u001b[36mFile \u001b[39m\u001b[32m~/Briefs/D-veloppement-d-une-solution-d-analyse-de-donn-es-multi-technologies/.venv/lib/python3.12/site-packages/pandas/io/sql.py:1579\u001b[39m, in \u001b[36mSQLAlchemyEngine.insert_records\u001b[39m\u001b[34m(self, table, con, frame, name, index, schema, chunksize, method, **engine_kwargs)\u001b[39m\n\u001b[32m   1577\u001b[39m \u001b[38;5;28;01mif\u001b[39;00m re.search(msg, err_text):\n\u001b[32m   1578\u001b[39m     \u001b[38;5;28;01mraise\u001b[39;00m \u001b[38;5;167;01mValueError\u001b[39;00m(\u001b[33m\"\u001b[39m\u001b[33minf cannot be used with MySQL\u001b[39m\u001b[33m\"\u001b[39m) \u001b[38;5;28;01mfrom\u001b[39;00m\u001b[38;5;250m \u001b[39m\u001b[34;01merr\u001b[39;00m\n\u001b[32m-> \u001b[39m\u001b[32m1579\u001b[39m \u001b[38;5;28;01mraise\u001b[39;00m err\n",
            "\u001b[36mFile \u001b[39m\u001b[32m~/Briefs/D-veloppement-d-une-solution-d-analyse-de-donn-es-multi-technologies/.venv/lib/python3.12/site-packages/pandas/io/sql.py:1570\u001b[39m, in \u001b[36mSQLAlchemyEngine.insert_records\u001b[39m\u001b[34m(self, table, con, frame, name, index, schema, chunksize, method, **engine_kwargs)\u001b[39m\n\u001b[32m   1567\u001b[39m \u001b[38;5;28;01mfrom\u001b[39;00m\u001b[38;5;250m \u001b[39m\u001b[34;01msqlalchemy\u001b[39;00m\u001b[38;5;250m \u001b[39m\u001b[38;5;28;01mimport\u001b[39;00m exc\n\u001b[32m   1569\u001b[39m \u001b[38;5;28;01mtry\u001b[39;00m:\n\u001b[32m-> \u001b[39m\u001b[32m1570\u001b[39m     \u001b[38;5;28;01mreturn\u001b[39;00m \u001b[43mtable\u001b[49m\u001b[43m.\u001b[49m\u001b[43minsert\u001b[49m\u001b[43m(\u001b[49m\u001b[43mchunksize\u001b[49m\u001b[43m=\u001b[49m\u001b[43mchunksize\u001b[49m\u001b[43m,\u001b[49m\u001b[43m \u001b[49m\u001b[43mmethod\u001b[49m\u001b[43m=\u001b[49m\u001b[43mmethod\u001b[49m\u001b[43m)\u001b[49m\n\u001b[32m   1571\u001b[39m \u001b[38;5;28;01mexcept\u001b[39;00m exc.StatementError \u001b[38;5;28;01mas\u001b[39;00m err:\n\u001b[32m   1572\u001b[39m     \u001b[38;5;66;03m# GH34431\u001b[39;00m\n\u001b[32m   1573\u001b[39m     \u001b[38;5;66;03m# https://stackoverflow.com/a/67358288/6067848\u001b[39;00m\n\u001b[32m   1574\u001b[39m     msg = \u001b[33mr\u001b[39m\u001b[33m\"\"\"\u001b[39m\u001b[33m(\u001b[39m\u001b[33m\\\u001b[39m\u001b[33m(1054, \u001b[39m\u001b[33m\"\u001b[39m\u001b[33mUnknown column \u001b[39m\u001b[33m'\u001b[39m\u001b[33minf(e0)?\u001b[39m\u001b[33m'\u001b[39m\u001b[33m in \u001b[39m\u001b[33m'\u001b[39m\u001b[33mfield list\u001b[39m\u001b[33m'\u001b[39m\u001b[33m\"\u001b[39m\u001b[33m\\\u001b[39m\u001b[33m))(?#\u001b[39m\n\u001b[32m   1575\u001b[39m \u001b[33m    )|inf can not be used with MySQL\u001b[39m\u001b[33m\"\"\"\u001b[39m\n",
            "\u001b[36mFile \u001b[39m\u001b[32m~/Briefs/D-veloppement-d-une-solution-d-analyse-de-donn-es-multi-technologies/.venv/lib/python3.12/site-packages/pandas/io/sql.py:1121\u001b[39m, in \u001b[36mSQLTable.insert\u001b[39m\u001b[34m(self, chunksize, method)\u001b[39m\n\u001b[32m   1118\u001b[39m     \u001b[38;5;28;01mbreak\u001b[39;00m\n\u001b[32m   1120\u001b[39m chunk_iter = \u001b[38;5;28mzip\u001b[39m(*(arr[start_i:end_i] \u001b[38;5;28;01mfor\u001b[39;00m arr \u001b[38;5;129;01min\u001b[39;00m data_list))\n\u001b[32m-> \u001b[39m\u001b[32m1121\u001b[39m num_inserted = \u001b[43mexec_insert\u001b[49m\u001b[43m(\u001b[49m\u001b[43mconn\u001b[49m\u001b[43m,\u001b[49m\u001b[43m \u001b[49m\u001b[43mkeys\u001b[49m\u001b[43m,\u001b[49m\u001b[43m \u001b[49m\u001b[43mchunk_iter\u001b[49m\u001b[43m)\u001b[49m\n\u001b[32m   1122\u001b[39m \u001b[38;5;66;03m# GH 46891\u001b[39;00m\n\u001b[32m   1123\u001b[39m \u001b[38;5;28;01mif\u001b[39;00m num_inserted \u001b[38;5;129;01mis\u001b[39;00m \u001b[38;5;129;01mnot\u001b[39;00m \u001b[38;5;28;01mNone\u001b[39;00m:\n",
            "\u001b[36mFile \u001b[39m\u001b[32m~/Briefs/D-veloppement-d-une-solution-d-analyse-de-donn-es-multi-technologies/.venv/lib/python3.12/site-packages/pandas/io/sql.py:1012\u001b[39m, in \u001b[36mSQLTable._execute_insert\u001b[39m\u001b[34m(self, conn, keys, data_iter)\u001b[39m\n\u001b[32m   1000\u001b[39m \u001b[38;5;250m\u001b[39m\u001b[33;03m\"\"\"\u001b[39;00m\n\u001b[32m   1001\u001b[39m \u001b[33;03mExecute SQL statement inserting data\u001b[39;00m\n\u001b[32m   1002\u001b[39m \n\u001b[32m   (...)\u001b[39m\u001b[32m   1009\u001b[39m \u001b[33;03m   Each item contains a list of values to be inserted\u001b[39;00m\n\u001b[32m   1010\u001b[39m \u001b[33;03m\"\"\"\u001b[39;00m\n\u001b[32m   1011\u001b[39m data = [\u001b[38;5;28mdict\u001b[39m(\u001b[38;5;28mzip\u001b[39m(keys, row)) \u001b[38;5;28;01mfor\u001b[39;00m row \u001b[38;5;129;01min\u001b[39;00m data_iter]\n\u001b[32m-> \u001b[39m\u001b[32m1012\u001b[39m result = \u001b[43mconn\u001b[49m\u001b[43m.\u001b[49m\u001b[43mexecute\u001b[49m\u001b[43m(\u001b[49m\u001b[38;5;28;43mself\u001b[39;49m\u001b[43m.\u001b[49m\u001b[43mtable\u001b[49m\u001b[43m.\u001b[49m\u001b[43minsert\u001b[49m\u001b[43m(\u001b[49m\u001b[43m)\u001b[49m\u001b[43m,\u001b[49m\u001b[43m \u001b[49m\u001b[43mdata\u001b[49m\u001b[43m)\u001b[49m\n\u001b[32m   1013\u001b[39m \u001b[38;5;28;01mreturn\u001b[39;00m result.rowcount\n",
            "\u001b[36mFile \u001b[39m\u001b[32m~/Briefs/D-veloppement-d-une-solution-d-analyse-de-donn-es-multi-technologies/.venv/lib/python3.12/site-packages/sqlalchemy/engine/base.py:1415\u001b[39m, in \u001b[36mConnection.execute\u001b[39m\u001b[34m(self, statement, parameters, execution_options)\u001b[39m\n\u001b[32m   1413\u001b[39m     \u001b[38;5;28;01mraise\u001b[39;00m exc.ObjectNotExecutableError(statement) \u001b[38;5;28;01mfrom\u001b[39;00m\u001b[38;5;250m \u001b[39m\u001b[34;01merr\u001b[39;00m\n\u001b[32m   1414\u001b[39m \u001b[38;5;28;01melse\u001b[39;00m:\n\u001b[32m-> \u001b[39m\u001b[32m1415\u001b[39m     \u001b[38;5;28;01mreturn\u001b[39;00m \u001b[43mmeth\u001b[49m\u001b[43m(\u001b[49m\n\u001b[32m   1416\u001b[39m \u001b[43m        \u001b[49m\u001b[38;5;28;43mself\u001b[39;49m\u001b[43m,\u001b[49m\n\u001b[32m   1417\u001b[39m \u001b[43m        \u001b[49m\u001b[43mdistilled_parameters\u001b[49m\u001b[43m,\u001b[49m\n\u001b[32m   1418\u001b[39m \u001b[43m        \u001b[49m\u001b[43mexecution_options\u001b[49m\u001b[43m \u001b[49m\u001b[38;5;129;43;01mor\u001b[39;49;00m\u001b[43m \u001b[49m\u001b[43mNO_OPTIONS\u001b[49m\u001b[43m,\u001b[49m\n\u001b[32m   1419\u001b[39m \u001b[43m    \u001b[49m\u001b[43m)\u001b[49m\n",
            "\u001b[36mFile \u001b[39m\u001b[32m~/Briefs/D-veloppement-d-une-solution-d-analyse-de-donn-es-multi-technologies/.venv/lib/python3.12/site-packages/sqlalchemy/sql/elements.py:523\u001b[39m, in \u001b[36mClauseElement._execute_on_connection\u001b[39m\u001b[34m(self, connection, distilled_params, execution_options)\u001b[39m\n\u001b[32m    521\u001b[39m     \u001b[38;5;28;01mif\u001b[39;00m TYPE_CHECKING:\n\u001b[32m    522\u001b[39m         \u001b[38;5;28;01massert\u001b[39;00m \u001b[38;5;28misinstance\u001b[39m(\u001b[38;5;28mself\u001b[39m, Executable)\n\u001b[32m--> \u001b[39m\u001b[32m523\u001b[39m     \u001b[38;5;28;01mreturn\u001b[39;00m \u001b[43mconnection\u001b[49m\u001b[43m.\u001b[49m\u001b[43m_execute_clauseelement\u001b[49m\u001b[43m(\u001b[49m\n\u001b[32m    524\u001b[39m \u001b[43m        \u001b[49m\u001b[38;5;28;43mself\u001b[39;49m\u001b[43m,\u001b[49m\u001b[43m \u001b[49m\u001b[43mdistilled_params\u001b[49m\u001b[43m,\u001b[49m\u001b[43m \u001b[49m\u001b[43mexecution_options\u001b[49m\n\u001b[32m    525\u001b[39m \u001b[43m    \u001b[49m\u001b[43m)\u001b[49m\n\u001b[32m    526\u001b[39m \u001b[38;5;28;01melse\u001b[39;00m:\n\u001b[32m    527\u001b[39m     \u001b[38;5;28;01mraise\u001b[39;00m exc.ObjectNotExecutableError(\u001b[38;5;28mself\u001b[39m)\n",
            "\u001b[36mFile \u001b[39m\u001b[32m~/Briefs/D-veloppement-d-une-solution-d-analyse-de-donn-es-multi-technologies/.venv/lib/python3.12/site-packages/sqlalchemy/engine/base.py:1637\u001b[39m, in \u001b[36mConnection._execute_clauseelement\u001b[39m\u001b[34m(self, elem, distilled_parameters, execution_options)\u001b[39m\n\u001b[32m   1625\u001b[39m compiled_cache: Optional[CompiledCacheType] = execution_options.get(\n\u001b[32m   1626\u001b[39m     \u001b[33m\"\u001b[39m\u001b[33mcompiled_cache\u001b[39m\u001b[33m\"\u001b[39m, \u001b[38;5;28mself\u001b[39m.engine._compiled_cache\n\u001b[32m   1627\u001b[39m )\n\u001b[32m   1629\u001b[39m compiled_sql, extracted_params, cache_hit = elem._compile_w_cache(\n\u001b[32m   1630\u001b[39m     dialect=dialect,\n\u001b[32m   1631\u001b[39m     compiled_cache=compiled_cache,\n\u001b[32m   (...)\u001b[39m\u001b[32m   1635\u001b[39m     linting=\u001b[38;5;28mself\u001b[39m.dialect.compiler_linting | compiler.WARN_LINTING,\n\u001b[32m   1636\u001b[39m )\n\u001b[32m-> \u001b[39m\u001b[32m1637\u001b[39m ret = \u001b[38;5;28;43mself\u001b[39;49m\u001b[43m.\u001b[49m\u001b[43m_execute_context\u001b[49m\u001b[43m(\u001b[49m\n\u001b[32m   1638\u001b[39m \u001b[43m    \u001b[49m\u001b[43mdialect\u001b[49m\u001b[43m,\u001b[49m\n\u001b[32m   1639\u001b[39m \u001b[43m    \u001b[49m\u001b[43mdialect\u001b[49m\u001b[43m.\u001b[49m\u001b[43mexecution_ctx_cls\u001b[49m\u001b[43m.\u001b[49m\u001b[43m_init_compiled\u001b[49m\u001b[43m,\u001b[49m\n\u001b[32m   1640\u001b[39m \u001b[43m    \u001b[49m\u001b[43mcompiled_sql\u001b[49m\u001b[43m,\u001b[49m\n\u001b[32m   1641\u001b[39m \u001b[43m    \u001b[49m\u001b[43mdistilled_parameters\u001b[49m\u001b[43m,\u001b[49m\n\u001b[32m   1642\u001b[39m \u001b[43m    \u001b[49m\u001b[43mexecution_options\u001b[49m\u001b[43m,\u001b[49m\n\u001b[32m   1643\u001b[39m \u001b[43m    \u001b[49m\u001b[43mcompiled_sql\u001b[49m\u001b[43m,\u001b[49m\n\u001b[32m   1644\u001b[39m \u001b[43m    \u001b[49m\u001b[43mdistilled_parameters\u001b[49m\u001b[43m,\u001b[49m\n\u001b[32m   1645\u001b[39m \u001b[43m    \u001b[49m\u001b[43melem\u001b[49m\u001b[43m,\u001b[49m\n\u001b[32m   1646\u001b[39m \u001b[43m    \u001b[49m\u001b[43mextracted_params\u001b[49m\u001b[43m,\u001b[49m\n\u001b[32m   1647\u001b[39m \u001b[43m    \u001b[49m\u001b[43mcache_hit\u001b[49m\u001b[43m=\u001b[49m\u001b[43mcache_hit\u001b[49m\u001b[43m,\u001b[49m\n\u001b[32m   1648\u001b[39m \u001b[43m\u001b[49m\u001b[43m)\u001b[49m\n\u001b[32m   1649\u001b[39m \u001b[38;5;28;01mif\u001b[39;00m has_events:\n\u001b[32m   1650\u001b[39m     \u001b[38;5;28mself\u001b[39m.dispatch.after_execute(\n\u001b[32m   1651\u001b[39m         \u001b[38;5;28mself\u001b[39m,\n\u001b[32m   1652\u001b[39m         elem,\n\u001b[32m   (...)\u001b[39m\u001b[32m   1656\u001b[39m         ret,\n\u001b[32m   1657\u001b[39m     )\n",
            "\u001b[36mFile \u001b[39m\u001b[32m~/Briefs/D-veloppement-d-une-solution-d-analyse-de-donn-es-multi-technologies/.venv/lib/python3.12/site-packages/sqlalchemy/engine/base.py:1840\u001b[39m, in \u001b[36mConnection._execute_context\u001b[39m\u001b[34m(self, dialect, constructor, statement, parameters, execution_options, *args, **kw)\u001b[39m\n\u001b[32m   1837\u001b[39m context.pre_exec()\n\u001b[32m   1839\u001b[39m \u001b[38;5;28;01mif\u001b[39;00m context.execute_style \u001b[38;5;129;01mis\u001b[39;00m ExecuteStyle.INSERTMANYVALUES:\n\u001b[32m-> \u001b[39m\u001b[32m1840\u001b[39m     \u001b[38;5;28;01mreturn\u001b[39;00m \u001b[38;5;28;43mself\u001b[39;49m\u001b[43m.\u001b[49m\u001b[43m_exec_insertmany_context\u001b[49m\u001b[43m(\u001b[49m\u001b[43mdialect\u001b[49m\u001b[43m,\u001b[49m\u001b[43m \u001b[49m\u001b[43mcontext\u001b[49m\u001b[43m)\u001b[49m\n\u001b[32m   1841\u001b[39m \u001b[38;5;28;01melse\u001b[39;00m:\n\u001b[32m   1842\u001b[39m     \u001b[38;5;28;01mreturn\u001b[39;00m \u001b[38;5;28mself\u001b[39m._exec_single_context(\n\u001b[32m   1843\u001b[39m         dialect, context, statement, parameters\n\u001b[32m   1844\u001b[39m     )\n",
            "\u001b[36mFile \u001b[39m\u001b[32m~/Briefs/D-veloppement-d-une-solution-d-analyse-de-donn-es-multi-technologies/.venv/lib/python3.12/site-packages/sqlalchemy/engine/base.py:2122\u001b[39m, in \u001b[36mConnection._exec_insertmany_context\u001b[39m\u001b[34m(self, dialect, context)\u001b[39m\n\u001b[32m   2114\u001b[39m         dialect.do_execute(\n\u001b[32m   2115\u001b[39m             cursor,\n\u001b[32m   2116\u001b[39m             sub_stmt,\n\u001b[32m   2117\u001b[39m             sub_params,\n\u001b[32m   2118\u001b[39m             context,\n\u001b[32m   2119\u001b[39m         )\n\u001b[32m   2121\u001b[39m \u001b[38;5;28;01mexcept\u001b[39;00m \u001b[38;5;167;01mBaseException\u001b[39;00m \u001b[38;5;28;01mas\u001b[39;00m e:\n\u001b[32m-> \u001b[39m\u001b[32m2122\u001b[39m     \u001b[38;5;28;43mself\u001b[39;49m\u001b[43m.\u001b[49m\u001b[43m_handle_dbapi_exception\u001b[49m\u001b[43m(\u001b[49m\n\u001b[32m   2123\u001b[39m \u001b[43m        \u001b[49m\u001b[43me\u001b[49m\u001b[43m,\u001b[49m\n\u001b[32m   2124\u001b[39m \u001b[43m        \u001b[49m\u001b[43msql_util\u001b[49m\u001b[43m.\u001b[49m\u001b[43m_long_statement\u001b[49m\u001b[43m(\u001b[49m\u001b[43msub_stmt\u001b[49m\u001b[43m)\u001b[49m\u001b[43m,\u001b[49m\n\u001b[32m   2125\u001b[39m \u001b[43m        \u001b[49m\u001b[43msub_params\u001b[49m\u001b[43m,\u001b[49m\n\u001b[32m   2126\u001b[39m \u001b[43m        \u001b[49m\u001b[43mcursor\u001b[49m\u001b[43m,\u001b[49m\n\u001b[32m   2127\u001b[39m \u001b[43m        \u001b[49m\u001b[43mcontext\u001b[49m\u001b[43m,\u001b[49m\n\u001b[32m   2128\u001b[39m \u001b[43m        \u001b[49m\u001b[43mis_sub_exec\u001b[49m\u001b[43m=\u001b[49m\u001b[38;5;28;43;01mTrue\u001b[39;49;00m\u001b[43m,\u001b[49m\n\u001b[32m   2129\u001b[39m \u001b[43m    \u001b[49m\u001b[43m)\u001b[49m\n\u001b[32m   2131\u001b[39m \u001b[38;5;28;01mif\u001b[39;00m engine_events:\n\u001b[32m   2132\u001b[39m     \u001b[38;5;28mself\u001b[39m.dispatch.after_cursor_execute(\n\u001b[32m   2133\u001b[39m         \u001b[38;5;28mself\u001b[39m,\n\u001b[32m   2134\u001b[39m         cursor,\n\u001b[32m   (...)\u001b[39m\u001b[32m   2138\u001b[39m         context.executemany,\n\u001b[32m   2139\u001b[39m     )\n",
            "\u001b[36mFile \u001b[39m\u001b[32m~/Briefs/D-veloppement-d-une-solution-d-analyse-de-donn-es-multi-technologies/.venv/lib/python3.12/site-packages/sqlalchemy/engine/base.py:2351\u001b[39m, in \u001b[36mConnection._handle_dbapi_exception\u001b[39m\u001b[34m(self, e, statement, parameters, cursor, context, is_sub_exec)\u001b[39m\n\u001b[32m   2349\u001b[39m \u001b[38;5;28;01melif\u001b[39;00m should_wrap:\n\u001b[32m   2350\u001b[39m     \u001b[38;5;28;01massert\u001b[39;00m sqlalchemy_exception \u001b[38;5;129;01mis\u001b[39;00m \u001b[38;5;129;01mnot\u001b[39;00m \u001b[38;5;28;01mNone\u001b[39;00m\n\u001b[32m-> \u001b[39m\u001b[32m2351\u001b[39m     \u001b[38;5;28;01mraise\u001b[39;00m sqlalchemy_exception.with_traceback(exc_info[\u001b[32m2\u001b[39m]) \u001b[38;5;28;01mfrom\u001b[39;00m\u001b[38;5;250m \u001b[39m\u001b[34;01me\u001b[39;00m\n\u001b[32m   2352\u001b[39m \u001b[38;5;28;01melse\u001b[39;00m:\n\u001b[32m   2353\u001b[39m     \u001b[38;5;28;01massert\u001b[39;00m exc_info[\u001b[32m1\u001b[39m] \u001b[38;5;129;01mis\u001b[39;00m \u001b[38;5;129;01mnot\u001b[39;00m \u001b[38;5;28;01mNone\u001b[39;00m\n",
            "\u001b[36mFile \u001b[39m\u001b[32m~/Briefs/D-veloppement-d-une-solution-d-analyse-de-donn-es-multi-technologies/.venv/lib/python3.12/site-packages/sqlalchemy/engine/base.py:2114\u001b[39m, in \u001b[36mConnection._exec_insertmany_context\u001b[39m\u001b[34m(self, dialect, context)\u001b[39m\n\u001b[32m   2112\u001b[39m             \u001b[38;5;28;01mbreak\u001b[39;00m\n\u001b[32m   2113\u001b[39m     \u001b[38;5;28;01melse\u001b[39;00m:\n\u001b[32m-> \u001b[39m\u001b[32m2114\u001b[39m         \u001b[43mdialect\u001b[49m\u001b[43m.\u001b[49m\u001b[43mdo_execute\u001b[49m\u001b[43m(\u001b[49m\n\u001b[32m   2115\u001b[39m \u001b[43m            \u001b[49m\u001b[43mcursor\u001b[49m\u001b[43m,\u001b[49m\n\u001b[32m   2116\u001b[39m \u001b[43m            \u001b[49m\u001b[43msub_stmt\u001b[49m\u001b[43m,\u001b[49m\n\u001b[32m   2117\u001b[39m \u001b[43m            \u001b[49m\u001b[43msub_params\u001b[49m\u001b[43m,\u001b[49m\n\u001b[32m   2118\u001b[39m \u001b[43m            \u001b[49m\u001b[43mcontext\u001b[49m\u001b[43m,\u001b[49m\n\u001b[32m   2119\u001b[39m \u001b[43m        \u001b[49m\u001b[43m)\u001b[49m\n\u001b[32m   2121\u001b[39m \u001b[38;5;28;01mexcept\u001b[39;00m \u001b[38;5;167;01mBaseException\u001b[39;00m \u001b[38;5;28;01mas\u001b[39;00m e:\n\u001b[32m   2122\u001b[39m     \u001b[38;5;28mself\u001b[39m._handle_dbapi_exception(\n\u001b[32m   2123\u001b[39m         e,\n\u001b[32m   2124\u001b[39m         sql_util._long_statement(sub_stmt),\n\u001b[32m   (...)\u001b[39m\u001b[32m   2128\u001b[39m         is_sub_exec=\u001b[38;5;28;01mTrue\u001b[39;00m,\n\u001b[32m   2129\u001b[39m     )\n",
            "\u001b[36mFile \u001b[39m\u001b[32m~/Briefs/D-veloppement-d-une-solution-d-analyse-de-donn-es-multi-technologies/.venv/lib/python3.12/site-packages/sqlalchemy/engine/default.py:943\u001b[39m, in \u001b[36mDefaultDialect.do_execute\u001b[39m\u001b[34m(self, cursor, statement, parameters, context)\u001b[39m\n\u001b[32m    942\u001b[39m \u001b[38;5;28;01mdef\u001b[39;00m\u001b[38;5;250m \u001b[39m\u001b[34mdo_execute\u001b[39m(\u001b[38;5;28mself\u001b[39m, cursor, statement, parameters, context=\u001b[38;5;28;01mNone\u001b[39;00m):\n\u001b[32m--> \u001b[39m\u001b[32m943\u001b[39m     \u001b[43mcursor\u001b[49m\u001b[43m.\u001b[49m\u001b[43mexecute\u001b[49m\u001b[43m(\u001b[49m\u001b[43mstatement\u001b[49m\u001b[43m,\u001b[49m\u001b[43m \u001b[49m\u001b[43mparameters\u001b[49m\u001b[43m)\u001b[49m\n",
            "\u001b[31mIntegrityError\u001b[39m: (psycopg2.errors.ForeignKeyViolation) insert or update on table \"order_items\" violates foreign key constraint \"order_items_order_id_fkey\"\nDETAIL:  Key (order_id)=(002f19a65a2ddd70a090297872e6d64e) is not present in table \"orders\".\n\n[SQL: INSERT INTO order_items (order_id, product_id, seller_id, price, freight_value) VALUES (%(order_id__0)s, %(product_id__0)s, %(seller_id__0)s, %(price__0)s, %(freight_value__0)s), (%(order_id__1)s, %(product_id__1)s, %(seller_id__1)s, %(price__1)s, %( ... 101185 characters truncated ... (%(order_id__999)s, %(product_id__999)s, %(seller_id__999)s, %(price__999)s, %(freight_value__999)s)]\n[parameters: {'freight_value__0': 13.29, 'order_id__0': '00010242fe8c5a6d1ba2dd792cb16214', 'seller_id__0': '48436dade18ac8b2bce089ec2a041202', 'product_id__0': '4244733e06e7ecb4970a6e2683c13e61', 'price__0': 58.9, 'freight_value__1': 19.93, 'order_id__1': '00018f77f2f0320c557190d7a144bdd3', 'seller_id__1': 'dd7ddc04e1b6c2c614352b383efe2d36', 'product_id__1': 'e5f2d52b802189ee658865ca93d83a8f', 'price__1': 239.9, 'freight_value__2': 17.87, 'order_id__2': '000229ec398224ef6ca0657da4fc703e', 'seller_id__2': '5b51032eddd242adc84c38acab88f23d', 'product_id__2': 'c777355d18b72b67abbeef9df44fd0fd', 'price__2': 199.0, 'freight_value__3': 12.79, 'order_id__3': '00024acbcdf0a6daa1e931b038114c75', 'seller_id__3': '9d7a1d34a5052409006425275ba1c2b4', 'product_id__3': '7634da152a4610f1595efa32f14722fc', 'price__3': 12.99, 'freight_value__4': 18.14, 'order_id__4': '00042b26cf59d7ce69dfabb4e55b4fd9', 'seller_id__4': 'df560393f3a51e74553ab94004ba5c87', 'product_id__4': 'ac6c3623068f30de03045865e4e10089', 'price__4': 199.9, 'freight_value__5': 12.69, 'order_id__5': '00048cc3ae777c65dbb7d2a0634bc1ea', 'seller_id__5': '6426d21aca402a131fc0a5d0960a3c90', 'product_id__5': 'ef92defde845ab8450f9d70c526ef70f', 'price__5': 21.9, 'freight_value__6': 11.85, 'order_id__6': '00054e8431b9d7675808bcb819fb4a32', 'seller_id__6': '7040e82f899a04d1b434b795a43b4617', 'product_id__6': '8d4f2bb7e93e6710a28f34fa83ee7d28', 'price__6': 19.9, 'freight_value__7': 70.75, 'order_id__7': '000576fe39319847cbb9d288c5617fa6', 'seller_id__7': '5996cddab893a4652a15592fb58ab8db', 'product_id__7': '557d850972a7d6f792fd18ae1400d9b6', 'price__7': 810.0, 'freight_value__8': 11.65, 'order_id__8': '0005a1a1728c9d785b8e2b08b904576c', 'seller_id__8': 'a416b6a846a11724393025641d4edd5e', 'product_id__8': '310ae3c140ff94b03219ad0adc3c778f', 'price__8': 145.95, 'freight_value__9': 11.4, 'order_id__9': '0005f50442cb953dcd1d21e1fb923495', 'seller_id__9': 'ba143b05f0110f0dc71ad71b4466ce92', 'product_id__9': '4535b0e1091c278dfd193e5a1d63b39f', 'price__9': 53.99 ... 4900 parameters truncated ... 'freight_value__990': 7.78, 'order_id__990': '0286c83491d80e29a5f16c150abb76b2', 'seller_id__990': '8a32e327fe2c1b3511609d81aaf9f042', 'product_id__990': 'e19ddcc85537b41f22116c8d5425ef46', 'price__990': 29.99, 'freight_value__991': 16.18, 'order_id__991': '0286dd0f954cb641dc3eb5db5e4467e6', 'seller_id__991': '9616352088dcf83a7c06637f4ebf1c80', 'product_id__991': 'a8856d651600289b162f857e26838480', 'price__991': 59.9, 'freight_value__992': 22.73, 'order_id__992': '0286e258217733541e80588e29c208c1', 'seller_id__992': 'cb3dd9ce66268c7a3ca7241ac70ab58c', 'product_id__992': '3c4223262d31fa35043380da246fb0fa', 'price__992': 58.9, 'freight_value__993': 17.84, 'order_id__993': '02870408b4c4492b036a48140f2092ed', 'seller_id__993': '7142540dd4c91e2237acb7e911c4eba2', 'product_id__993': 'c977ac034427790e883ab55f4baa68c2', 'price__993': 84.9, 'freight_value__994': 8.65, 'order_id__994': '02875e2e1d01d7a1533215fb97510b06', 'seller_id__994': 'aba1721a889e04decc910aa13b768ef4', 'product_id__994': 'fd1446e03cb63518fdc2d2e91f6208b2', 'price__994': 199.0, 'freight_value__995': 15.25, 'order_id__995': '02881d166b44a823fd6947e715dfa5e4', 'seller_id__995': '6f892e20a171e98efe17fdb971ff319b', 'product_id__995': '4a300735bc293723103db0d0c1bc1585', 'price__995': 70.9, 'freight_value__996': 19.64, 'order_id__996': '028aa70283170bf3cbfdce2c1b751cfa', 'seller_id__996': 'dbd66278cbfe1aa1000f90a217ca4695', 'product_id__996': '1531b09bff3fb016e5f0b4435b643672', 'price__996': 64.5, 'freight_value__997': 17.63, 'order_id__997': '028aa7c930356788f861ed1b7f984819', 'seller_id__997': 'de722cd6dad950a92b7d4f82673f8833', 'product_id__997': '909b87db6cb3a7ab26bd03cc59860136', 'price__997': 39.9, 'freight_value__998': 18.02, 'order_id__998': '028ad19261e3ad3406ca689348755456', 'seller_id__998': '5c243662ce92d84573bfaff24c3e3700', 'product_id__998': '9453bde60c4ee52155c963641736cfc5', 'price__998': 467.0, 'freight_value__999': 37.12, 'order_id__999': '028b18bcd128b49e2982741f83b78e77', 'seller_id__999': '955fee9216a65b617aa5c0531780ce60', 'product_id__999': 'c6bf4cdc2fc9ca1189d18f026d95af07', 'price__999': 260.0}]\n(Background on this error at: https://sqlalche.me/e/20/gkpj)"
          ]
        }
      ],
      "source": [
        "order_items_clean.to_sql(\"order_items\", engine, if_exists=\"append\", index=False)"
      ]
    },
    {
      "cell_type": "markdown",
      "metadata": {
        "id": "OBQ_BY-QT4dO"
      },
      "source": [
        "## Partie 3 : Requêtes SQL avancées\n",
        "\n",
        "\n",
        "### 🔍 Analyses SQL à implémenter"
      ]
    },
    {
      "cell_type": "markdown",
      "metadata": {
        "id": "tdl5RNOBUAV2"
      },
      "source": [
        "#### 1. Analyse RFM (Récence, Fréquence, Montant)\n",
        "```sql\n",
        "-- Votre défi : Calculer les métriques RFM pour chaque client\n",
        "WITH customer_metrics AS (\n",
        "    SELECT\n",
        "        c.customer_id,\n",
        "        c.customer_state,\n",
        "        -- Récence : jours depuis dernier achat\n",
        "        -- Fréquence : nombre de commandes\n",
        "        -- Montant : total dépensé\n",
        "        \n",
        "        -- Complétez cette requête CTE\n",
        "        \n",
        "    FROM customers c\n",
        "    JOIN orders o ON c.customer_id = o.customer_id\n",
        "    JOIN order_items oi ON o.order_id = oi.order_id\n",
        "    WHERE o.order_status = 'delivered'\n",
        "    GROUP BY c.customer_id, c.customer_state\n",
        ")\n",
        "\n",
        "-- Créez les segments RFM (Champions, Loyaux, À risque, etc.)\n",
        "SELECT\n",
        "    customer_id,\n",
        "    customer_state,\n",
        "    recency_score,\n",
        "    frequency_score,\n",
        "    monetary_score,\n",
        "    CASE\n",
        "        WHEN recency_score >= 4 AND frequency_score >= 4 THEN 'Champions'\n",
        "        WHEN recency_score >= 3 AND frequency_score >= 3 THEN 'Loyal Customers'\n",
        "        -- Ajoutez les autres segments\n",
        "        ELSE 'Others'\n",
        "    END as customer_segment\n",
        "FROM customer_metrics;\n",
        "```"
      ]
    },
    {
      "cell_type": "code",
      "execution_count": null,
      "metadata": {
        "id": "TWF9rpZSUMp5"
      },
      "outputs": [],
      "source": [
        "#### 2. Analyse géographique des ventes\n",
        "\n",
        "def geographic_sales_analysis():\n",
        "    \"\"\"\n",
        "    Analysez les performances par état/région\n",
        "\n",
        "    Requêtes à écrire :\n",
        "    1. Top 10 des états par CA\n",
        "    2. Croissance MoM par région\n",
        "    3. Taux de conversion par ville\n",
        "    4. Distance moyenne vendeur-acheteur\n",
        "    \"\"\"\n",
        "\n",
        "    query_top_states = \"\"\"\n",
        "    -- Votre requête SQL ici\n",
        "    -- Utilisez des JOINs et GROUP BY\n",
        "    -- Calculez le CA, nombre de commandes, panier moyen\n",
        "    \"\"\"\n",
        "\n",
        "    return pd.read_sql(query_top_states, engine)"
      ]
    },
    {
      "cell_type": "markdown",
      "metadata": {
        "id": "7OE-UHLKY8-K"
      },
      "source": [
        "#### 3. Analyse temporelle et saisonnalité\n",
        "```sql\n",
        "-- Détectez les patterns saisonniers\n",
        "SELECT\n",
        "    EXTRACT(YEAR FROM order_date) as year,\n",
        "    EXTRACT(MONTH FROM order_date) as month,\n",
        "    EXTRACT(DOW FROM order_date) as day_of_week,\n",
        "    COUNT(*) as order_count,\n",
        "    SUM(price + freight_value) as total_revenue,\n",
        "    AVG(price + freight_value) as avg_order_value\n",
        "FROM orders o\n",
        "JOIN order_items oi ON o.order_id = oi.order_id\n",
        "WHERE order_status = 'delivered'\n",
        "GROUP BY ROLLUP(\n",
        "    EXTRACT(YEAR FROM order_date),\n",
        "    EXTRACT(MONTH FROM order_date),\n",
        "    EXTRACT(DOW FROM order_date)\n",
        ")\n",
        "ORDER BY year, month, day_of_week;\n",
        "```\n",
        "\n",
        "---"
      ]
    },
    {
      "cell_type": "markdown",
      "metadata": {
        "id": "Xq43e3mfZC8d"
      },
      "source": [
        "## Partie 4 : Analyse prédictive avec SQL\n",
        "\n",
        "### 🔮 Modèles simples en SQL"
      ]
    },
    {
      "cell_type": "code",
      "execution_count": null,
      "metadata": {
        "id": "bY5mfxFoaL2K"
      },
      "outputs": [],
      "source": [
        "#### 1. Prédiction de churn\n",
        "\n",
        "def churn_prediction_sql():\n",
        "    \"\"\"\n",
        "    Identifiez les clients à risque de churn\n",
        "\n",
        "    Indicateurs :\n",
        "    - Pas d'achat depuis X jours\n",
        "    - Baisse de fréquence d'achat\n",
        "    - Diminution du panier moyen\n",
        "    - Changement de comportement géographique\n",
        "    \"\"\"\n",
        "\n",
        "    churn_query = \"\"\"\n",
        "    WITH customer_activity AS (\n",
        "        -- Calculez les métriques d'activité récente\n",
        "        -- Comparez avec l'historique du client\n",
        "        -- Scorez le risque de churn\n",
        "    )\n",
        "\n",
        "    SELECT\n",
        "        customer_id,\n",
        "        days_since_last_order,\n",
        "        order_frequency_trend,\n",
        "        monetary_trend,\n",
        "        churn_risk_score,\n",
        "        CASE\n",
        "            WHEN churn_risk_score > 0.7 THEN 'High Risk'\n",
        "            WHEN churn_risk_score > 0.4 THEN 'Medium Risk'\n",
        "            ELSE 'Low Risk'\n",
        "        END as churn_segment\n",
        "    FROM customer_activity;\n",
        "    \"\"\"\n",
        "\n",
        "    return pd.read_sql(churn_query, engine)\n"
      ]
    },
    {
      "cell_type": "markdown",
      "metadata": {
        "id": "IB2D1PDraVu4"
      },
      "source": [
        "#### 2. Recommandations produits\n",
        "```sql\n",
        "-- Market Basket Analysis simplifié\n",
        "WITH product_pairs AS (\n",
        "    SELECT\n",
        "        oi1.product_id as product_a,\n",
        "        oi2.product_id as product_b,\n",
        "        COUNT(*) as co_purchase_count\n",
        "    FROM order_items oi1\n",
        "    JOIN order_items oi2 ON oi1.order_id = oi2.order_id\n",
        "    WHERE oi1.product_id != oi2.product_id\n",
        "    GROUP BY oi1.product_id, oi2.product_id\n",
        "    HAVING COUNT(*) >= 10  -- Seuil minimum\n",
        ")\n",
        "\n",
        "SELECT\n",
        "    product_a,\n",
        "    product_b,\n",
        "    co_purchase_count,\n",
        "    co_purchase_count::float / total_a.count as confidence\n",
        "FROM product_pairs pp\n",
        "JOIN (\n",
        "    SELECT product_id, COUNT(*) as count\n",
        "    FROM order_items\n",
        "    GROUP BY product_id\n",
        ") total_a ON pp.product_a = total_a.product_id\n",
        "ORDER BY confidence DESC;\n",
        "```\n",
        "\n",
        "---"
      ]
    },
    {
      "cell_type": "markdown",
      "metadata": {
        "id": "dbYkj8ItabH-"
      },
      "source": [
        "## Partie 5 : Intégration avec les APIs météo"
      ]
    },
    {
      "cell_type": "markdown",
      "metadata": {
        "id": "x4CU6SNEfNXb"
      },
      "source": [
        "### 🌤️ Croisement données météo/ventes\n",
        "```python\n",
        "def weather_sales_correlation():\n",
        "    \"\"\"\n",
        "    Correlez vos données météo du Notebook 1 avec les ventes\n",
        "    \n",
        "    Hypothèses à tester :\n",
        "    1. Les ventes de certaines catégories augmentent-elles avec la pluie ?\n",
        "    2. Y a-t-il un impact de la température sur les achats ?\n",
        "    3. Les livraisons sont-elles impactées par la météo ?\n",
        "    \"\"\"\n",
        "    \n",
        "    # Récupérez les données météo historiques pour les villes brésiliennes\n",
        "    weather_query = \"\"\"\n",
        "    SELECT DISTINCT customer_city, customer_state\n",
        "    FROM customers\n",
        "    WHERE customer_state IN ('SP', 'RJ', 'MG', 'RS', 'SC')\n",
        "    ORDER BY customer_city;\n",
        "    \"\"\"\n",
        "    \n",
        "    cities = pd.read_sql(weather_query, engine)\n",
        "    \n",
        "    # Intégrez avec l'API météo\n",
        "    # Analysez les corrélations\n",
        "    \n",
        "    pass\n",
        "```"
      ]
    },
    {
      "cell_type": "markdown",
      "metadata": {
        "id": "XHG9k_5PfZXd"
      },
      "source": [
        "### 📊 Dashboard géo-temporel\n",
        "```python\n",
        "def create_geotemporal_dashboard():\n",
        "    \"\"\"\n",
        "    Créez un dashboard interactif combinant :\n",
        "    - Carte des ventes par région\n",
        "    - Évolution temporelle avec météo\n",
        "    - Segments clients géolocalisés\n",
        "    - Prédictions par zone géographique\n",
        "    \"\"\"\n",
        "    pass\n",
        "```"
      ]
    },
    {
      "cell_type": "markdown",
      "metadata": {
        "id": "EsIuD-IVfnxW"
      },
      "source": [
        "---\n",
        "## 🏆 Livrables finaux\n",
        "\n",
        "### 📈 Rapport d'analyse complet\n",
        "1. **Segmentation RFM (Recency, Frenquency, Monetary) ** : 5-7 segments avec caractéristiques\n",
        "2. **Analyse géographique**  : Performances par région + recommandations\n",
        "3. **Prédictions churn** : Liste des clients à risque + actions\n",
        "4. **Recommandations produits** : Top 10 des associations\n",
        "5. **Impact météo** : Corrélations significatives identifiées\n",
        "\n",
        "### 🚀 Pipeline automatisé\n",
        "```python\n",
        "def automated_analysis_pipeline():\n",
        "    \"\"\"\n",
        "    Pipeline qui :\n",
        "    1. Se connecte à la DB\n",
        "    2. Exécute toutes les analyses\n",
        "    3. Met à jour les segments clients\n",
        "    4. Génère le rapport automatiquement\n",
        "    5. Envoie des alertes si nécessaire\n",
        "    \"\"\"\n",
        "    pass\n",
        "```\n",
        "\n",
        "---"
      ]
    },
    {
      "cell_type": "markdown",
      "metadata": {
        "id": "wynvmdtNftwf"
      },
      "source": [
        "## 🎓 Auto-évaluation\n",
        "\n",
        "- [ ] **Connexion DB** : PostgreSQL fonctionnelle\n",
        "- [ ] **Requêtes complexes** : JOINs, CTEs, fonctions analytiques\n",
        "- [ ] **Gestion des erreurs** : Connexions robustes\n",
        "- [ ] **Performance** : Requêtes optimisées avec index\n",
        "- [ ] **Intégration** : SQL + Python + APIs\n",
        "- [ ] **Insights actionables** : Recommandations business claires\n",
        "\n",
        "### 🔗 Préparation au Notebook 3\n",
        "Le prochain notebook portera sur NoSQL (MongoDB) avec des données de réseaux sociaux et d'IoT, en temps réel.\n",
        "\n",
        "### 💡 Bases de données alternatives\n",
        "- **PlanetScale** : MySQL serverless gratuit\n",
        "- **MongoDB Atlas** : 512MB gratuit\n",
        "- **FaunaDB** : Base multi-modèle gratuite\n",
        "- **Hasura Cloud** : GraphQL + PostgreSQL"
      ]
    }
  ],
  "metadata": {
    "colab": {
      "provenance": []
    },
    "kernelspec": {
      "display_name": ".venv (3.12.3)",
      "language": "python",
      "name": "python3"
    },
    "language_info": {
      "codemirror_mode": {
        "name": "ipython",
        "version": 3
      },
      "file_extension": ".py",
      "mimetype": "text/x-python",
      "name": "python",
      "nbconvert_exporter": "python",
      "pygments_lexer": "ipython3",
      "version": "3.12.3"
    }
  },
  "nbformat": 4,
  "nbformat_minor": 0
}
