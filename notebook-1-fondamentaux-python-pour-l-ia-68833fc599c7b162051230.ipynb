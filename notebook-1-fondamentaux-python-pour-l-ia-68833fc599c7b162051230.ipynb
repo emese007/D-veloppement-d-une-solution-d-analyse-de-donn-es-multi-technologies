{
  "cells": [
    {
      "cell_type": "markdown",
      "metadata": {
        "id": "VQzdTEd20OQQ"
      },
      "source": []
    },
    {
      "cell_type": "markdown",
      "metadata": {
        "id": "qD7z9hrS0QHi"
      },
      "source": [
        "# Notebook 1 - Fondamentaux Python pour l'IA\n",
        "# Analyse de données météorologiques en temps réel\n",
        "\n",
        "🎯 Objectifs pédagogiques\n",
        "\n",
        "Maîtriser les structures de données Python essentielles\n",
        "Consommer des APIs REST avec requests\n",
        "Manipuler des données JSON et CSV\n",
        "Créer des visualisations basiques\n",
        "Appliquer des statistiques descriptives\n",
        "\n",
        "🌤️ Contexte du projet\n",
        "\n",
        "Vous travaillez pour une startup AgTech qui développe des solutions d'agriculture intelligente. Votre mission : analyser les données météorologiques de plusieurs villes européennes pour optimiser les recommandations de plantation."
      ]
    },
    {
      "cell_type": "markdown",
      "metadata": {
        "id": "InXafSSW05HB"
      },
      "source": [
        "Partie 1 : Connexion aux APIs météo\n",
        "\n",
        "🔧 Installation des bibliothèques\n",
        "\n",
        "\n",
        " À exécuter dans votre terminal ou cellule\n",
        "# pip install requests pandas matplotlib seaborn numpy"
      ]
    },
    {
      "cell_type": "code",
      "execution_count": 485,
      "metadata": {
        "id": "VRX6x9eF08hL"
      },
      "outputs": [],
      "source": [
        "#📥 Import et configuration\n",
        "import requests\n",
        "import pandas as pd\n",
        "import numpy as np\n",
        "import matplotlib.pyplot as plt\n",
        "import seaborn as sns\n",
        "from datetime import datetime, timedelta\n",
        "import json"
      ]
    },
    {
      "cell_type": "code",
      "execution_count": 486,
      "metadata": {},
      "outputs": [
        {
          "name": "stdout",
          "output_type": "stream",
          "text": [
            "VY2XW6GGZJZEDL7EPVX4XZSML\n",
            "bbc28337bfe237f869917ed9dbb1ab45\n"
          ]
        }
      ],
      "source": [
        "import os\n",
        "from dotenv import load_dotenv\n",
        "\n",
        "# Charger les variables d'environnement depuis le fichier .env\n",
        "\n",
        "load_dotenv()\n",
        "\n",
        "# Récupérer la clé API\n",
        "\n",
        "VC_API_KEY = os.getenv(\"VC_API_KEY\")\n",
        "API_KEY = os.getenv(\"API_KEY\")\n",
        "\n",
        "print(VC_API_KEY)\n",
        "print(API_KEY)"
      ]
    },
    {
      "cell_type": "markdown",
      "metadata": {
        "id": "cclqgdw01aGL"
      },
      "source": [
        "🌍 API OpenWeatherMap (gratuite)\n",
        "\n",
        "Inscription : Créez un compte sur openweathermap.org\n",
        "\n",
        "\n",
        "Clé API : Récupérez votre clé gratuite (40 000 appels/mois)\n",
        "\n"
      ]
    },
    {
      "cell_type": "code",
      "execution_count": 487,
      "metadata": {
        "id": "90O22MX50sjB"
      },
      "outputs": [],
      "source": [
        "### 💡 Première requête guidée\n",
        "\n",
        "def get_weather_data(city, api_key):\n",
        "    \"\"\"\n",
        "    Récupère les données météo actuelles pour une ville (section current weather!)\n",
        "\n",
        "    Étapes à compléter :\n",
        "    1. Construire l'URL avec les paramètres\n",
        "    2. Faire l'appel API avec requests.get()\n",
        "    3. Vérifier le status code\n",
        "    4. Retourner les données JSON\n",
        "    \"\"\"\n",
        "    # URL : current weather data\n",
        "\n",
        "    BASE_URL = \"http://api.openweathermap.org/data/2.5\"\n",
        "    url = f\"{BASE_URL}/weather\"\n",
        "\n",
        "    # Paramètres à compléter\n",
        "    params = {\n",
        "        'q': city,\n",
        "        'appid': api_key,\n",
        "        'units': 'metric',  # Celsius\n",
        "        'lang': 'fr'\n",
        "    }\n",
        "\n",
        "    # Votre code ici pour l'appel API\n",
        "    response = requests.get(url, params=params)\n",
        "\n",
        "    # Gérez les erreurs HTTP !\n",
        "    if response.status_code == 200:\n",
        "        return response.json()\n",
        "    else:\n",
        "        print(f\"Erreur HTTP : {response.status_code}\")\n",
        "    return None\n",
        "\n",
        "    pass  # Remplacez par votre implémentation\n"
      ]
    },
    {
      "cell_type": "code",
      "execution_count": 488,
      "metadata": {
        "id": "Dsb-QIjE0slp"
      },
      "outputs": [
        {
          "name": "stdout",
          "output_type": "stream",
          "text": [
            "\n",
            "Météo à Vienna :\n",
            "- ciel dégagé\n",
            "- Température : 15.76°C\n",
            "- Humidité : 77%\n",
            "- Vent : 7.6 m/s\n"
          ]
        }
      ],
      "source": [
        "# Configuration API\n",
        "API_KEY = \"bbc28337bfe237f869917ed9dbb1ab45\"  # Remplacez par votre vraie clé\n",
        "BASE_URL = \"http://api.openweathermap.org/data/2.5\"\n",
        "\n",
        "# Villes à analyser (agriculture européenne)\n",
        "CITIES = [\"Paris\", \"Berlin\", \"Madrid\", \"Rome\", \"Amsterdam\", \"Vienna\"]\n",
        "\n",
        "for city in CITIES:\n",
        "        data = get_weather_data(city, API_KEY)\n",
        "\n",
        "#https://openweathermap.org/current#name data[\"weather\"][0] - première dictionnaire de la liste :   \"weather\": [\n",
        " #     {\n",
        " #        \"id\": 501,\n",
        " #        \"main\": \"Rain\",\n",
        " #        \"description\": \"moderate rain\",\n",
        " #        \"icon\": \"10d\"\n",
        " #     }],\n",
        "\n",
        "if data:\n",
        "        description = data[\"weather\"][0][\"description\"]\n",
        "        temperature = data[\"main\"][\"temp\"]\n",
        "        humidite = data[\"main\"][\"humidity\"]\n",
        "        vent = data[\"wind\"][\"speed\"]\n",
        "\n",
        "        print(f\"\\nMétéo à {city} :\")\n",
        "        print(f\"- {description}\")\n",
        "        print(f\"- Température : {temperature}°C\")\n",
        "        print(f\"- Humidité : {humidite}%\")\n",
        "        print(f\"- Vent : {vent} m/s\")\n",
        "else:\n",
        "        print(f\"\\n Impossible de récupérer la météo pour {city}!\")\n"
      ]
    },
    {
      "cell_type": "markdown",
      "metadata": {
        "id": "jUpfp5TW2mY_"
      },
      "source": []
    },
    {
      "cell_type": "markdown",
      "metadata": {
        "id": "XN6RPmCr2qDp"
      },
      "source": [
        "**Questions de débogage :**\n",
        "- Que faire si l'API retourne une erreur 401 ?\n",
        "- Comment gérer une ville introuvable ?\n",
        "\n",
        "---"
      ]
    },
    {
      "cell_type": "markdown",
      "metadata": {},
      "source": [
        "-erreur 401: invalid API clé\n",
        "-ville introuvable: faut de frappe, ville n'est pas geolocalisé\n",
        "\n",
        "-gestion: \n",
        "if response.status_code == 401 / 404:\n",
        " print(\"Erreur 401 : clé API invalide ou manquante.\")\n",
        " print(f\"Ville introuvable : {city}\")"
      ]
    },
    {
      "cell_type": "markdown",
      "metadata": {
        "id": "KL0MS3RJ263K"
      },
      "source": [
        "## Partie 2 : API complémentaire - Données historiques\n",
        "\n",
        "### 📊 API Visual Crossing Weather (gratuite)\n",
        "Alternative avec 1000 appels/jour gratuits : [visualcrossing.com](https://www.visualcrossing.com/weather-api)"
      ]
    },
    {
      "cell_type": "code",
      "execution_count": 489,
      "metadata": {
        "id": "6OK5bXQy0srW"
      },
      "outputs": [],
      "source": [
        "# Configuration Visual Crossing\n",
        "\n",
        "VC_BASE_URL = \"https://weather.visualcrossing.com/VisualCrossingWebServices/rest/services/timeline\"\n",
        "\n",
        "def get_historical_weather(city, start_date, end_date, api_key):\n",
        "    \"\"\"\n",
        "    Récupère les données météo historiques\n",
        "\n",
        "    Défis à résoudre :\n",
        "    1. Construire l'URL avec les dates\n",
        "    2. Gérer la pagination si nécessaire\n",
        "    3. Extraire les données pertinentes du JSON complexe\n",
        "    4. Convertir en DataFrame pandas\n",
        "    \"\"\"\n",
        "\n",
        "    today = datetime.today()\n",
        "    start_date = (today - timedelta(days=7)).strftime('%Y-%m-%d')\n",
        "    end_date = today.strftime('%Y-%m-%d')\n",
        "\n",
        "    url = f\"{VC_BASE_URL}/{city}/{start_date}/{end_date}\"\n",
        "\n",
        "    params = {\n",
        "        'key': api_key,\n",
        "        'include': 'days',\n",
        "        'elements': 'datetime,temp,humidity,precip,windspeed,pressure',\n",
        "        'unitGroup': 'metric',\n",
        "        'contentType':'json'\n",
        "    }\n",
        "\n",
        "    response = requests.get(url, params=params)\n",
        "\n",
        "    if response.status_code == 200:\n",
        "\n",
        "        data = response.json()\n",
        "\n",
        "        if 'days' in data:\n",
        "            days = data['days']\n",
        "            df = pd.DataFrame(days)\n",
        "            df[\"city\"] = city\n",
        "            return df[['datetime', 'temp', 'humidity', 'precip', 'windspeed', 'pressure', 'city']]\n",
        "        else:\n",
        "            print(\" Données 'days' non trouvées dans la réponse.\")\n",
        "\n",
        "\n",
        "    # Votre implémentation ici\n",
        "    # Pensez à la gestion d'erreurs !\n",
        "\n",
        "    pass"
      ]
    },
    {
      "cell_type": "code",
      "execution_count": 490,
      "metadata": {},
      "outputs": [
        {
          "name": "stdout",
          "output_type": "stream",
          "text": [
            "<bound method NDFrame.head of      datetime  temp  humidity  precip  windspeed  pressure   city\n",
            "0  2025-07-23  19.2      74.3   2.018       13.5    1013.8  Paris\n",
            "1  2025-07-24  18.4      83.8  12.440       15.4    1014.9  Paris\n",
            "2  2025-07-25  20.7      72.8   0.010       12.2    1017.7  Paris\n",
            "3  2025-07-26  21.4      67.8   0.000       16.2    1018.2  Paris\n",
            "4  2025-07-27  18.8      78.8   5.600       23.2    1016.4  Paris\n",
            "5  2025-07-28  18.9      65.9   0.000       13.8    1019.9  Paris\n",
            "6  2025-07-29  17.1      78.8   1.300       16.6    1020.5  Paris\n",
            "7  2025-07-30  18.8      81.5   1.400       10.8    1018.8  Paris>\n"
          ]
        }
      ],
      "source": [
        "city = \"Paris\"\n",
        "today = datetime.today()\n",
        "start_date = (today - timedelta(days=7)).strftime('%Y-%m-%d')\n",
        "end_date = today.strftime('%Y-%m-%d')\n",
        "\n",
        "df = get_historical_weather(city, start_date, end_date, VC_API_KEY)\n",
        "\n",
        "if df is not None:\n",
        "    print(df.head)\n"
      ]
    },
    {
      "cell_type": "markdown",
      "metadata": {
        "id": "WiSgjF2V3JOv"
      },
      "source": [
        "### 🎯 Mission pratique\n",
        "Récupérez les données des 30 derniers jours pour toutes vos villes et créez un DataFrame consolidé.\n",
        "\n",
        "**Structure attendue :**\n",
        "```\n",
        "| date       | ville     | temperature | humidite | precipitation | vent |\n",
        "|------------|-----------|-------------|----------|---------------|------|\n",
        "| 2024-01-01 | Paris     | 12.5        | 75       | 2.3          | 15   |\n",
        "```\n",
        "\n",
        "---\n"
      ]
    },
    {
      "cell_type": "code",
      "execution_count": 491,
      "metadata": {},
      "outputs": [
        {
          "name": "stdout",
          "output_type": "stream",
          "text": [
            "          date      ville  temperature  humidite  precipitation  vent\n",
            "0   2025-07-23      Paris         19.2      74.3          2.018  13.5\n",
            "1   2025-07-24      Paris         18.4      83.8         12.440  15.4\n",
            "2   2025-07-25      Paris         20.7      72.8          0.010  12.2\n",
            "3   2025-07-26      Paris         21.4      67.8          0.000  16.2\n",
            "4   2025-07-27      Paris         18.8      78.8          5.600  23.2\n",
            "5   2025-07-28      Paris         18.9      65.9          0.000  13.8\n",
            "6   2025-07-29      Paris         17.1      78.8          1.300  16.6\n",
            "7   2025-07-30      Paris         18.8      81.5          1.400  10.8\n",
            "8   2025-07-23     Berlin         18.4      83.8         10.800  25.0\n",
            "9   2025-07-24     Berlin         19.5      80.5          0.600  16.6\n",
            "10  2025-07-25     Berlin         20.0      85.0          4.200  19.4\n",
            "11  2025-07-26     Berlin         19.4      78.5          2.500  15.7\n",
            "12  2025-07-27     Berlin         20.4      69.7          0.000  18.4\n",
            "13  2025-07-28     Berlin         20.1      72.2          2.800  29.5\n",
            "14  2025-07-29     Berlin         18.1      69.2          0.000  24.1\n",
            "15  2025-07-30     Berlin         17.8      64.7          0.200  11.5\n",
            "16  2025-07-23     Madrid         25.5      36.4          0.000  16.1\n",
            "17  2025-07-24     Madrid         23.1      39.9          0.000  20.4\n",
            "18  2025-07-25     Madrid         22.3      38.2          0.000  17.2\n",
            "19  2025-07-26     Madrid         24.8      35.9          0.000  14.8\n",
            "20  2025-07-27     Madrid         27.3      30.7          0.000  20.6\n",
            "21  2025-07-28     Madrid         26.3      33.6          0.000  18.1\n",
            "22  2025-07-29     Madrid         23.4      38.6          0.000  19.7\n",
            "23  2025-07-30     Madrid         24.9      37.5          0.000  15.9\n",
            "24  2025-07-23  Amsterdam         19.5      81.7          0.537  21.0\n",
            "25  2025-07-24  Amsterdam         19.6      79.1          0.004  19.7\n",
            "26  2025-07-25  Amsterdam         19.6      80.7          0.647  16.9\n",
            "27  2025-07-26  Amsterdam         19.6      80.0          0.068  24.5\n",
            "28  2025-07-27  Amsterdam         18.5      76.2          3.300  25.2\n",
            "29  2025-07-28  Amsterdam         17.9      75.0          0.600  28.7\n",
            "30  2025-07-29  Amsterdam         18.5      64.2          0.000  19.9\n",
            "31  2025-07-30  Amsterdam         17.7      68.5          0.000  18.4\n",
            "32  2025-07-23     Vienna         23.5      55.0          0.001  17.9\n",
            "33  2025-07-24     Vienna         23.4      64.1         23.513  21.6\n",
            "34  2025-07-25     Vienna         22.4      65.9          0.000  18.0\n",
            "35  2025-07-26     Vienna         20.9      79.3         15.673  17.9\n",
            "36  2025-07-27     Vienna         20.3      77.6          0.500  31.7\n",
            "37  2025-07-28     Vienna         20.3      68.4          1.400  35.3\n",
            "38  2025-07-29     Vienna         19.0      69.2          0.100  33.5\n",
            "39  2025-07-30     Vienna         19.9      58.9          0.200  24.1\n"
          ]
        }
      ],
      "source": [
        "\n",
        "# empty list\n",
        "# append: adding each dataframe to that empty list: [DataFrame_for_Paris, DataFrame_for_Berlin, DataFrame_for_Madrid, ...]\n",
        "cities_list = []\n",
        "\n",
        "for city in CITIES:\n",
        "    df_city = get_historical_weather(city, start_date, end_date, VC_API_KEY)\n",
        "    if df_city is not None:\n",
        "        cities_list.append(df_city)\n",
        "\n",
        "df_consolide = pd.concat(cities_list, ignore_index=True)\n",
        "\n",
        "df_consolide = df_consolide.rename(columns={\n",
        "    'datetime': 'date',\n",
        "    'city': 'ville',\n",
        "    'temp': 'temperature',\n",
        "    'humidity': 'humidite',\n",
        "    'precip': 'precipitation',\n",
        "    'windspeed': 'vent'\n",
        "})\n",
        "\n",
        "df_consolide = df_consolide[['date', 'ville', 'temperature', 'humidite', 'precipitation', 'vent']]\n",
        "print(df_consolide)\n"
      ]
    },
    {
      "cell_type": "code",
      "execution_count": 492,
      "metadata": {
        "id": "iR8RHaqM0suN"
      },
      "outputs": [],
      "source": [
        "## Partie 3 : API supplémentaire - Qualité de l'air\n",
        "\n",
        "### 🌬️ API OpenWeatherMap Air Pollution\n",
        "def get_air_quality(lat, lon, api_key):\n",
        "\n",
        "    \"\"\"\n",
        "    Récupère les données de qualité de l'air\n",
        "\n",
        "    URL : http://api.openweathermap.org/data/2.5/air_pollution\n",
        "\n",
        "    Étapes :\n",
        "    1. Utiliser les coordonnées lat/lon des villes\n",
        "    2. Récupérer l'indice AQI et les composants (PM2.5, PM10, O3, etc.)\n",
        "    3. Joindre ces données avec vos données météo\n",
        "    \"\"\"\n",
        "    url = \"http://api.openweathermap.org/data/2.5/air_pollution\"\n",
        "\n",
        "    params = {\n",
        "        'lat': lat,\n",
        "        'lon': lon,\n",
        "        'appid': api_key\n",
        "    }\n",
        "\n",
        "    response = requests.get(url, params=params)\n",
        "    data = response.json()\n",
        "\n",
        "    if 'list' in data and data['list']:\n",
        "        info = data['list'][0]\n",
        "        return {\n",
        "            'aqi': info['main']['aqi'],\n",
        "            'pm2_5': info['components'].get('pm2_5'),\n",
        "            'pm10': info['components'].get('pm10'),\n",
        "            'o3': info['components'].get('o3'),\n",
        "            'no2': info['components'].get('no2'),\n",
        "        }\n",
        "    else:\n",
        "        print(\"Pas de données qualité de l'air.\")\n",
        "        return None\n",
        "    \n",
        "    pass"
      ]
    },
    {
      "cell_type": "code",
      "execution_count": 493,
      "metadata": {
        "id": "V0DOb0363VJU"
      },
      "outputs": [],
      "source": [
        "### 🗺️ Obtenir les coordonnées\n",
        "def get_city_coordinates(city, api_key):\n",
        "    \"\"\"\n",
        "    Utilise l'API Geocoding d'OpenWeatherMap\n",
        "    URL : http://api.openweathermap.org/geo/1.0/direct\n",
        "\n",
        "    Récupérez lat/lon pour chaque ville\n",
        "    \"\"\"\n",
        "    url = \"http://api.openweathermap.org/geo/1.0/direct\"\n",
        "\n",
        "    params = {\n",
        "        'q': city,\n",
        "        'limit': 1,\n",
        "        'appid': api_key\n",
        "    }\n",
        "\n",
        "    response = requests.get(url, params=params)\n",
        "    data = response.json()\n",
        "\n",
        "    if data:\n",
        "        lat = data[0]['lat']\n",
        "        lon = data[0]['lon']\n",
        "        return lat, lon\n",
        "    else:\n",
        "        print(f\"Ville introuvable : {city}\")\n",
        "        return None, None"
      ]
    },
    {
      "cell_type": "code",
      "execution_count": 494,
      "metadata": {},
      "outputs": [
        {
          "name": "stdout",
          "output_type": "stream",
          "text": [
            "   aqi  pm2_5  pm10     o3    no2      ville        date\n",
            "0    1   1.27  1.76  39.07   2.06      Paris  2025-07-30\n",
            "1    1   1.43  2.17  47.35   4.18     Berlin  2025-07-30\n",
            "2    2   1.06  1.96  75.03   2.47     Madrid  2025-07-30\n",
            "3    2   1.92  5.83  78.01   1.46       Rome  2025-07-30\n",
            "4    1   4.98  6.40  44.95  15.39  Amsterdam  2025-07-30\n",
            "5    1   1.51  2.15  35.41   3.24     Vienna  2025-07-30\n"
          ]
        }
      ],
      "source": [
        "air_quality_data = []\n",
        "\n",
        "for city in CITIES:\n",
        "    lat, lon = get_city_coordinates(city, API_KEY)\n",
        "\n",
        "    if lat is not None and lon is not None:\n",
        "        air_data = get_air_quality(lat, lon, API_KEY)\n",
        "        if air_data:\n",
        "            air_data['ville'] = city\n",
        "            air_data['date'] = datetime.today().strftime('%Y-%m-%d')\n",
        "            air_quality_data.append(air_data)       \n",
        "\n",
        "df_air = pd.DataFrame(air_quality_data)\n",
        "\n",
        "print(df_air)                                     "
      ]
    },
    {
      "cell_type": "markdown",
      "metadata": {
        "id": "v02lzUOv3kp6"
      },
      "source": [
        "\n",
        "## Partie 4 : Analyse et visualisation\n",
        "\n",
        "### 📈 Analyses à réaliser\n",
        "\n",
        "1. **Comparaison inter-villes**\n",
        "   - Températures moyennes par ville\n",
        "   - Variabilité climatique (écart-type)\n",
        "   - Corrélations température/humidité\n",
        "\n",
        "2. **Tendances temporelles**\n",
        "   - Évolution sur 30 jours\n",
        "   - Identification des patterns\n",
        "\n",
        "3. **Qualité de l'air vs météo**\n",
        "   - Impact de la pluie sur la pollution\n",
        "   - Corrélations vent/qualité de l'air"
      ]
    },
    {
      "cell_type": "code",
      "execution_count": 501,
      "metadata": {
        "colab": {
          "base_uri": "https://localhost:8080/",
          "height": 51
        },
        "id": "IQb6JSIp3VSD",
        "outputId": "542a1e6a-381e-40c4-a65a-c21522e3b42d"
      },
      "outputs": [
        {
          "data": {
            "image/png": "[encoded data removed]",
            "text/plain": [
              "<Figure size 1500x800 with 2 Axes>"
            ]
          },
          "metadata": {},
          "output_type": "display_data"
        },
        {
          "data": {
            "image/png": "[encoded data removed]",
            "text/plain": [
              "<Figure size 1000x600 with 1 Axes>"
            ]
          },
          "metadata": {},
          "output_type": "display_data"
        },
        {
          "data": {
            "image/png": "[encoded data removed]",
            "text/plain": [
              "<Figure size 800x600 with 1 Axes>"
            ]
          },
          "metadata": {},
          "output_type": "display_data"
        }
      ],
      "source": [
        "### 💡 Visualisations guidées\n",
        "import matplotlib.pyplot as plt\n",
        "import seaborn as sns\n",
        "\n",
        "# 1. Heatmap des températures par ville et jour\n",
        "\n",
        "# Créez un pivot table : villes en colonnes, dates en lignes\n",
        "# Utilisez seaborn.heatmap()\n",
        "pivot = df_consolide.pivot(index=\"date\", columns=\"ville\", values=\"temperature\")\n",
        "\n",
        "plt.figure(figsize=(15, 8))\n",
        "sns.heatmap(pivot, cmap=\"coolwarm\", linewidths=0.2)\n",
        "plt.title(\"Heatmap des températures par jour et par ville\")\n",
        "plt.xlabel(\"Ville\")\n",
        "plt.ylabel(\"Date\")\n",
        "plt.tight_layout()\n",
        "plt.show()\n",
        "\n",
        "# 2. Boxplot comparatif des précipitations\n",
        "# Utilisez seaborn.boxplot()\n",
        "plt.figure(figsize=(10, 6))\n",
        "sns.boxplot(x=\"ville\", y=\"precipitation\", data=df_consolide)\n",
        "plt.title(\"Distribution des précipitations par ville\")\n",
        "plt.xlabel(\"Ville\")\n",
        "plt.ylabel(\"Précipitation (mm)\")\n",
        "plt.tight_layout()\n",
        "plt.show()\n",
        "\n",
        "# 3. Scatter plot qualité air vs température\n",
        "# Ajoutez une regression line avec seaborn.regplot()\n",
        "\n",
        "df_temp_avg = df_consolide.groupby(\"ville\")[\"temperature\"].mean().reset_index()\n",
        "df_temp_avg.rename(columns={\"temperature\": \"temp_moyenne\"}, inplace=True)\n",
        "df_scatter = pd.merge(df_temp_avg, df_air[[\"ville\", \"aqi\"]], on=\"ville\")\n",
        "\n",
        "import seaborn as sns\n",
        "import matplotlib.pyplot as plt\n",
        "\n",
        "plt.figure(figsize=(8, 6))\n",
        "sns.regplot(x=\"temp_moyenne\", y=\"aqi\", data=df_scatter)\n",
        "plt.title(\"Température moyenne vs Qualité de l'air (AQI)\")\n",
        "plt.xlabel(\"Température moyenne (°C)\")\n",
        "plt.ylabel(\"Indice de pollution (AQI)\")\n",
        "plt.tight_layout()\n",
        "plt.show()\n",
        "\n"
      ]
    },
    {
      "cell_type": "code",
      "execution_count": 500,
      "metadata": {},
      "outputs": [
        {
          "name": "stdout",
          "output_type": "stream",
          "text": [
            "          date      ville  temperature  humidite  precipitation  vent\n",
            "0   2025-07-23      Paris         19.2      74.3          2.018  13.5\n",
            "1   2025-07-24      Paris         18.4      83.8         12.440  15.4\n",
            "2   2025-07-25      Paris         20.7      72.8          0.010  12.2\n",
            "3   2025-07-26      Paris         21.4      67.8          0.000  16.2\n",
            "4   2025-07-27      Paris         18.8      78.8          5.600  23.2\n",
            "5   2025-07-28      Paris         18.9      65.9          0.000  13.8\n",
            "6   2025-07-29      Paris         17.1      78.8          1.300  16.6\n",
            "7   2025-07-30      Paris         18.8      81.5          1.400  10.8\n",
            "8   2025-07-23     Berlin         18.4      83.8         10.800  25.0\n",
            "9   2025-07-24     Berlin         19.5      80.5          0.600  16.6\n",
            "10  2025-07-25     Berlin         20.0      85.0          4.200  19.4\n",
            "11  2025-07-26     Berlin         19.4      78.5          2.500  15.7\n",
            "12  2025-07-27     Berlin         20.4      69.7          0.000  18.4\n",
            "13  2025-07-28     Berlin         20.1      72.2          2.800  29.5\n",
            "14  2025-07-29     Berlin         18.1      69.2          0.000  24.1\n",
            "15  2025-07-30     Berlin         17.8      64.7          0.200  11.5\n",
            "16  2025-07-23     Madrid         25.5      36.4          0.000  16.1\n",
            "17  2025-07-24     Madrid         23.1      39.9          0.000  20.4\n",
            "18  2025-07-25     Madrid         22.3      38.2          0.000  17.2\n",
            "19  2025-07-26     Madrid         24.8      35.9          0.000  14.8\n",
            "20  2025-07-27     Madrid         27.3      30.7          0.000  20.6\n",
            "21  2025-07-28     Madrid         26.3      33.6          0.000  18.1\n",
            "22  2025-07-29     Madrid         23.4      38.6          0.000  19.7\n",
            "23  2025-07-30     Madrid         24.9      37.5          0.000  15.9\n",
            "24  2025-07-23  Amsterdam         19.5      81.7          0.537  21.0\n",
            "25  2025-07-24  Amsterdam         19.6      79.1          0.004  19.7\n",
            "26  2025-07-25  Amsterdam         19.6      80.7          0.647  16.9\n",
            "27  2025-07-26  Amsterdam         19.6      80.0          0.068  24.5\n",
            "28  2025-07-27  Amsterdam         18.5      76.2          3.300  25.2\n",
            "29  2025-07-28  Amsterdam         17.9      75.0          0.600  28.7\n",
            "30  2025-07-29  Amsterdam         18.5      64.2          0.000  19.9\n",
            "31  2025-07-30  Amsterdam         17.7      68.5          0.000  18.4\n",
            "32  2025-07-23     Vienna         23.5      55.0          0.001  17.9\n",
            "33  2025-07-24     Vienna         23.4      64.1         23.513  21.6\n",
            "34  2025-07-25     Vienna         22.4      65.9          0.000  18.0\n",
            "35  2025-07-26     Vienna         20.9      79.3         15.673  17.9\n",
            "36  2025-07-27     Vienna         20.3      77.6          0.500  31.7\n",
            "37  2025-07-28     Vienna         20.3      68.4          1.400  35.3\n",
            "38  2025-07-29     Vienna         19.0      69.2          0.100  33.5\n",
            "39  2025-07-30     Vienna         19.9      58.9          0.200  24.1\n",
            "ville\n",
            "Paris        8\n",
            "Berlin       8\n",
            "Madrid       8\n",
            "Amsterdam    8\n",
            "Vienna       8\n",
            "Name: count, dtype: int64\n"
          ]
        }
      ],
      "source": [
        "print(df_consolide)\n",
        "print(df_consolide[\"ville\"].value_counts())"
      ]
    },
    {
      "cell_type": "code",
      "execution_count": 497,
      "metadata": {},
      "outputs": [
        {
          "name": "stdout",
          "output_type": "stream",
          "text": [
            "   aqi  pm2_5  pm10     o3    no2      ville        date\n",
            "0    1   1.27  1.76  39.07   2.06      Paris  2025-07-30\n",
            "1    1   1.43  2.17  47.35   4.18     Berlin  2025-07-30\n",
            "2    2   1.06  1.96  75.03   2.47     Madrid  2025-07-30\n",
            "3    2   1.92  5.83  78.01   1.46       Rome  2025-07-30\n",
            "4    1   4.98  6.40  44.95  15.39  Amsterdam  2025-07-30\n",
            "5    1   1.51  2.15  35.41   3.24     Vienna  2025-07-30\n"
          ]
        }
      ],
      "source": [
        "print(df_air)"
      ]
    },
    {
      "cell_type": "markdown",
      "metadata": {
        "id": "U3OFGeR437l0"
      },
      "source": [
        "## Partie 5 : API bonus - Données agricoles\n",
        "\n",
        "### 🌱 API AgroMonitoring (gratuite)"
      ]
    },
    {
      "cell_type": "code",
      "execution_count": 498,
      "metadata": {
        "id": "9PZMkaLO3zAK"
      },
      "outputs": [],
      "source": [
        "# API satellite pour l'agriculture\n",
        "AGRO_API_KEY = \"VOTRE_CLE_AGROMONITORING\"\n",
        "\n",
        "def get_soil_data(polygon_coordinates, api_key):\n",
        "    \"\"\"\n",
        "    Récupère des données de sol via satellite\n",
        "    URL : http://api.agromonitoring.com/agro/1.0/\n",
        "\n",
        "    Données disponibles :\n",
        "    - Indices de végétation (NDVI)\n",
        "    - Humidité du sol\n",
        "    - Température de surface\n",
        "    \"\"\"\n",
        "    pass\n"
      ]
    },
    {
      "cell_type": "markdown",
      "metadata": {
        "id": "9U_DNqp24DD6"
      },
      "source": [
        "\n",
        "**Défi avancé :** Créez des recommandations de plantation basées sur :\n",
        "- Données météo des 30 derniers jours\n",
        "- Prévisions à 5 jours\n",
        "- Qualité de l'air\n",
        "- Indices de végétation satellite\n",
        "\n"
      ]
    },
    {
      "cell_type": "markdown",
      "metadata": {
        "id": "W15DybdE4Ksu"
      },
      "source": [
        "## 🏆 Livrables attendus\n",
        "\n",
        "### 📊 Dashboard météo\n",
        "Créez un tableau de bord contenant :\n",
        "1. **Aperçu temps réel** des 6 villes\n",
        "2. **Graphiques de tendances** sur 30 jours\n",
        "3. **Alertes qualité de l'air** (AQI > 100)\n",
        "4. **Recommandations agricoles** par ville"
      ]
    },
    {
      "cell_type": "code",
      "execution_count": 499,
      "metadata": {
        "id": "46lA8m084ULP"
      },
      "outputs": [],
      "source": [
        "### 📱 Format de présentation\n",
        "\n",
        "def generate_weather_report(city_data):\n",
        "    \"\"\"\n",
        "    Génère un rapport automatisé\n",
        "\n",
        "    Format :\n",
        "    - Résumé exécutif (3 lignes)\n",
        "    - Métriques clés (tableaux)\n",
        "    - Graphiques (4 visualisations)\n",
        "    - Recommandations (bullet points)\n",
        "    \"\"\"\n",
        "    pass"
      ]
    },
    {
      "cell_type": "markdown",
      "metadata": {
        "id": "eqxVMuuh4Qsq"
      },
      "source": [
        "---\n",
        "\n",
        "## 🎓 Critères d'évaluation\n",
        "\n",
        "- [ ] **APIs fonctionnelles** : Toutes les connexions API marchent\n",
        "- [ ] **Gestion d'erreurs** : Code robuste avec try/except\n",
        "- [ ] **Qualité des données** : Validation et nettoyage\n",
        "- [ ] **Visualisations** : Graphiques informatifs et esthétiques\n",
        "- [ ] **Insights business** : Recommandations basées sur les données\n",
        "\n",
        "### 🔗 Préparation au Notebook 2\n",
        "Le prochain notebook utilisera une vraie base de données PostgreSQL hébergée pour analyser des données de ventes e-commerce, en croisant avec vos données météo pour des analyses géolocalisées.\n",
        "\n",
        "### 📚 APIs alternatives (si quotas dépassés)\n",
        "- **WeatherAPI** : 1M appels/mois gratuits\n",
        "- **AccuWeather** : 50 appels/jour gratuits  \n",
        "- **Climatiq** : Données climat et carbone\n",
        "- **NASA APIs** : Données satellite gratuites"
      ]
    }
  ],
  "metadata": {
    "colab": {
      "provenance": []
    },
    "kernelspec": {
      "display_name": ".venv (3.12.3)",
      "language": "python",
      "name": "python3"
    },
    "language_info": {
      "codemirror_mode": {
        "name": "ipython",
        "version": 3
      },
      "file_extension": ".py",
      "mimetype": "text/x-python",
      "name": "python",
      "nbconvert_exporter": "python",
      "pygments_lexer": "ipython3",
      "version": "3.12.3"
    }
  },
  "nbformat": 4,
  "nbformat_minor": 0
}
